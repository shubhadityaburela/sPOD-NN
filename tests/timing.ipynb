{
 "cells": [
  {
   "cell_type": "code",
   "execution_count": 1,
   "metadata": {},
   "outputs": [],
   "source": [
    "import numpy as np\n",
    "import matplotlib.pyplot as plt\n",
    "from Helper import save_fig\n",
    "import pandas as pd\n",
    "import os\n",
    "\n",
    "impath = \"../plots/\"\n",
    "os.makedirs(impath, exist_ok=True) \n",
    "\n",
    "plt.rcParams.update({\n",
    "    \"text.usetex\": True,\n",
    "    \"font.family\": \"serif\",\n",
    "    \"font.serif\": [\"Computer Modern\"]})\n",
    "\n",
    "SMALL_SIZE = 16   # 16\n",
    "MEDIUM_SIZE = 18   # 18\n",
    "BIGGER_SIZE = 20   # 20\n",
    "\n",
    "plt.rc('font', size=SMALL_SIZE)          # controls default text sizes\n",
    "plt.rc('axes', titlesize=BIGGER_SIZE)     # fontsize of the axes title\n",
    "plt.rc('axes', labelsize=MEDIUM_SIZE)    # fontsize of the x and y labels\n",
    "plt.rc('xtick', labelsize=SMALL_SIZE)    # fontsize of the tick labels\n",
    "plt.rc('ytick', labelsize=MEDIUM_SIZE)    # fontsize of the tick labels\n",
    "plt.rc('legend', fontsize=SMALL_SIZE)    # legend fontsize\n",
    "plt.rc('figure', titlesize=BIGGER_SIZE)  # fontsize of the figure title"
   ]
  },
  {
   "cell_type": "code",
   "execution_count": 2,
   "metadata": {},
   "outputs": [
    {
     "data": {
      "text/html": [
       "<div>\n",
       "<style scoped>\n",
       "    .dataframe tbody tr th:only-of-type {\n",
       "        vertical-align: middle;\n",
       "    }\n",
       "\n",
       "    .dataframe tbody tr th {\n",
       "        vertical-align: top;\n",
       "    }\n",
       "\n",
       "    .dataframe thead th {\n",
       "        text-align: right;\n",
       "    }\n",
       "</style>\n",
       "<table border=\"1\" class=\"dataframe\">\n",
       "  <thead>\n",
       "    <tr style=\"text-align: right;\">\n",
       "      <th></th>\n",
       "      <th>Approach</th>\n",
       "      <th>Speedup</th>\n",
       "    </tr>\n",
       "  </thead>\n",
       "  <tbody>\n",
       "    <tr>\n",
       "      <th>0</th>\n",
       "      <td>sPOD-NN</td>\n",
       "      <td>135.625000</td>\n",
       "    </tr>\n",
       "    <tr>\n",
       "      <th>1</th>\n",
       "      <td>sPOD-I</td>\n",
       "      <td>349.530201</td>\n",
       "    </tr>\n",
       "    <tr>\n",
       "      <th>2</th>\n",
       "      <td>POD-NN</td>\n",
       "      <td>1928.888889</td>\n",
       "    </tr>\n",
       "  </tbody>\n",
       "</table>\n",
       "</div>"
      ],
      "text/plain": [
       "  Approach      Speedup\n",
       "0  sPOD-NN   135.625000\n",
       "1   sPOD-I   349.530201\n",
       "2   POD-NN  1928.888889"
      ]
     },
     "execution_count": 2,
     "metadata": {},
     "output_type": "execute_result"
    }
   ],
   "source": [
    "# plotdata_1 = pd.DataFrame({\n",
    "#     \"FOM\":[5.208, 0, 0, 0],\n",
    "#     \"Evaluation\":[0, 0.0083, 0, 0.0016],\n",
    "#     \"Transformation\":[0, 0.0282, 0.0064, 0],\n",
    "#     \"Reconstruction\":[0, 0.0019, 0.0085, 0.0011]\n",
    "#     }, \n",
    "#     index=[\"FOM\", \"sPOD-NN\", \"sPOD-I\", \"POD-NN\"]\n",
    "# )\n",
    "# plotdata_1.head()\n",
    "\n",
    "FOM_time_1D = 5.208\n",
    "\n",
    "plotdata_1 = pd.DataFrame({\n",
    "    'Approach':[\"sPOD-NN\", \"sPOD-I\", \"POD-NN\"], \n",
    "    'Speedup':[FOM_time_1D / (0.0083+0.0282+0.0019), FOM_time_1D / (0.0064+0.0085), FOM_time_1D / (0.0016+0.0011)]})\n",
    "plotdata_1.head()"
   ]
  },
  {
   "cell_type": "code",
   "execution_count": 3,
   "metadata": {},
   "outputs": [
    {
     "data": {
      "text/html": [
       "<div>\n",
       "<style scoped>\n",
       "    .dataframe tbody tr th:only-of-type {\n",
       "        vertical-align: middle;\n",
       "    }\n",
       "\n",
       "    .dataframe tbody tr th {\n",
       "        vertical-align: top;\n",
       "    }\n",
       "\n",
       "    .dataframe thead th {\n",
       "        text-align: right;\n",
       "    }\n",
       "</style>\n",
       "<table border=\"1\" class=\"dataframe\">\n",
       "  <thead>\n",
       "    <tr style=\"text-align: right;\">\n",
       "      <th></th>\n",
       "      <th>Approach</th>\n",
       "      <th>Speedup</th>\n",
       "    </tr>\n",
       "  </thead>\n",
       "  <tbody>\n",
       "    <tr>\n",
       "      <th>0</th>\n",
       "      <td>sPOD-NN</td>\n",
       "      <td>108.221119</td>\n",
       "    </tr>\n",
       "    <tr>\n",
       "      <th>1</th>\n",
       "      <td>sPOD-I</td>\n",
       "      <td>111.957507</td>\n",
       "    </tr>\n",
       "    <tr>\n",
       "      <th>2</th>\n",
       "      <td>POD-NN</td>\n",
       "      <td>5099.483871</td>\n",
       "    </tr>\n",
       "  </tbody>\n",
       "</table>\n",
       "</div>"
      ],
      "text/plain": [
       "  Approach      Speedup\n",
       "0  sPOD-NN   108.221119\n",
       "1   sPOD-I   111.957507\n",
       "2   POD-NN  5099.483871"
      ]
     },
     "execution_count": 3,
     "metadata": {},
     "output_type": "execute_result"
    }
   ],
   "source": [
    "# plotdata_2 = pd.DataFrame({\n",
    "#     \"FOM\":[63.2336, 0, 0, 0],\n",
    "#     \"Evaluation\":[0, 0.0070, 0, 0.0014],\n",
    "#     \"Transformation\":[0, 0.0005, 0.0000, 0],\n",
    "#     \"Reconstruction\":[0, 0.1628, 0.1508, 0.0110],\n",
    "#     \"Cart-Pol-Cart\":[0, 0.4140, 0.4140, 0]\n",
    "#     }, \n",
    "#     index=[\"FOM\", \"sPOD-NN\", \"sPOD-I\", \"POD-NN\"]\n",
    "# )\n",
    "# plotdata_2.head()\n",
    "\n",
    "FOM_time_2D = 63.2336\n",
    "\n",
    "plotdata_2 = pd.DataFrame({\n",
    "    'Approach':[\"sPOD-NN\", \"sPOD-I\", \"POD-NN\"], \n",
    "    'Speedup':[FOM_time_2D / (0.0070+0.0005+0.1628+0.4140), FOM_time_2D / (0.1508+0.4140), FOM_time_2D / (0.0014+0.0110)]})\n",
    "plotdata_2.head()"
   ]
  },
  {
   "cell_type": "code",
   "execution_count": 4,
   "metadata": {},
   "outputs": [],
   "source": [
    "# Pie chart \n",
    "labels_1D = 'Evaluation', 'Transformation', 'Reconstruction'\n",
    "sizes_1D = [0.0083+0.0016, 0.0282+0.0064, 0.0019+0.0085+0.0011]\n",
    "\n",
    "labels_2D = 'Evaluation', 'Transformation', 'Reconstruction', 'Cart-Pol-Cart'\n",
    "sizes_2D = [0.0070+0.0014, 0.0005, 0.1628+0.1508+0.0110, 0.4140+0.4140]"
   ]
  },
  {
   "cell_type": "code",
   "execution_count": 5,
   "metadata": {
    "scrolled": false
   },
   "outputs": [
    {
     "data": {
      "image/png": "[encoded data removed]",
      "text/plain": [
       "<Figure size 864x504 with 2 Axes>"
      ]
     },
     "metadata": {
      "needs_background": "light"
     },
     "output_type": "display_data"
    }
   ],
   "source": [
    "fig, axs = plt.subplots(1, 2, figsize=(12, 7))\n",
    "\n",
    "ax1 = plotdata_1.plot(kind='bar', stacked=True, ax=axs[0])\n",
    "axs[0].set_xticklabels(plotdata_1['Approach'], rotation=45)\n",
    "axs[0].set_title('1D model')\n",
    "axs[0].grid()\n",
    "axs[0].bar_label(ax1.containers[0], label_type='edge')\n",
    "\n",
    "\n",
    "ax2 = plotdata_2.plot(kind='bar', stacked=True, ax=axs[1])\n",
    "axs[1].set_xticklabels(plotdata_2['Approach'], rotation=45)\n",
    "axs[1].set_title('2D model')\n",
    "axs[1].grid()\n",
    "axs[1].bar_label(ax2.containers[0], label_type='edge')\n",
    "\n",
    "\n",
    "# axs[1, 0].pie(sizes_1D, labels=labels_1D, autopct='%1.1f%%')\n",
    "# axs[1, 0].set_title('sPOD-NN (1D)')\n",
    "\n",
    "# axs[1, 1].pie(sizes_2D, labels=labels_2D, autopct='%1.1f%%')\n",
    "# axs[1, 1].set_title('sPOD-NN (2D)')\n",
    "\n",
    "\n",
    "# fig.supxlabel('Approach')\n",
    "# fig.supylabel('Time (s)')\n",
    "\n",
    "# save_fig(filepath=impath + 'Time_study', figure=fig)\n",
    "fig.savefig(impath + \"Time_study\" + \".png\", format='png',dpi=600, transparent=True)"
   ]
  },
  {
   "cell_type": "code",
   "execution_count": null,
   "metadata": {},
   "outputs": [],
   "source": []
  }
 ],
 "metadata": {
  "kernelspec": {
   "display_name": "Python 3 (ipykernel)",
   "language": "python",
   "name": "python3"
  },
  "language_info": {
   "codemirror_mode": {
    "name": "ipython",
    "version": 3
   },
   "file_extension": ".py",
   "mimetype": "text/x-python",
   "name": "python",
   "nbconvert_exporter": "python",
   "pygments_lexer": "ipython3",
   "version": "3.9.10"
  }
 },
 "nbformat": 4,
 "nbformat_minor": 1
}
