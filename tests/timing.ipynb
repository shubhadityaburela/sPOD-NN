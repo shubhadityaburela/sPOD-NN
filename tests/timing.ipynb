{
 "cells": [
  {
   "cell_type": "code",
   "execution_count": 1,
   "metadata": {},
   "outputs": [],
   "source": [
    "import numpy as np\n",
    "import matplotlib.pyplot as plt\n",
    "from Helper import save_fig\n",
    "import pandas as pd\n",
    "import os\n",
    "\n",
    "impath = \"../plots/\"\n",
    "os.makedirs(impath, exist_ok=True) \n",
    "\n",
    "plt.rcParams.update({\n",
    "    \"text.usetex\": True,\n",
    "    \"font.family\": \"serif\",\n",
    "    \"font.serif\": [\"Computer Modern\"]})\n",
    "\n",
    "SMALL_SIZE = 16   # 16\n",
    "MEDIUM_SIZE = 18   # 18\n",
    "BIGGER_SIZE = 20   # 20\n",
    "\n",
    "plt.rc('font', size=SMALL_SIZE)          # controls default text sizes\n",
    "plt.rc('axes', titlesize=BIGGER_SIZE)     # fontsize of the axes title\n",
    "plt.rc('axes', labelsize=MEDIUM_SIZE)    # fontsize of the x and y labels\n",
    "plt.rc('xtick', labelsize=SMALL_SIZE)    # fontsize of the tick labels\n",
    "plt.rc('ytick', labelsize=MEDIUM_SIZE)    # fontsize of the tick labels\n",
    "plt.rc('legend', fontsize=SMALL_SIZE)    # legend fontsize\n",
    "plt.rc('figure', titlesize=BIGGER_SIZE)  # fontsize of the figure title"
   ]
  },
  {
   "cell_type": "code",
   "execution_count": 2,
   "metadata": {},
   "outputs": [
    {
     "data": {
      "text/html": [
       "<div>\n",
       "<style scoped>\n",
       "    .dataframe tbody tr th:only-of-type {\n",
       "        vertical-align: middle;\n",
       "    }\n",
       "\n",
       "    .dataframe tbody tr th {\n",
       "        vertical-align: top;\n",
       "    }\n",
       "\n",
       "    .dataframe thead th {\n",
       "        text-align: right;\n",
       "    }\n",
       "</style>\n",
       "<table border=\"1\" class=\"dataframe\">\n",
       "  <thead>\n",
       "    <tr style=\"text-align: right;\">\n",
       "      <th></th>\n",
       "      <th>FOM</th>\n",
       "      <th>Evaluation</th>\n",
       "      <th>Transformation</th>\n",
       "      <th>Reconstruction</th>\n",
       "    </tr>\n",
       "  </thead>\n",
       "  <tbody>\n",
       "    <tr>\n",
       "      <th>FOM</th>\n",
       "      <td>5.208</td>\n",
       "      <td>0.0000</td>\n",
       "      <td>0.0000</td>\n",
       "      <td>0.0000</td>\n",
       "    </tr>\n",
       "    <tr>\n",
       "      <th>sPOD-NN</th>\n",
       "      <td>0.000</td>\n",
       "      <td>0.0083</td>\n",
       "      <td>0.0282</td>\n",
       "      <td>0.0019</td>\n",
       "    </tr>\n",
       "    <tr>\n",
       "      <th>sPOD-I</th>\n",
       "      <td>0.000</td>\n",
       "      <td>0.0000</td>\n",
       "      <td>0.0064</td>\n",
       "      <td>0.0085</td>\n",
       "    </tr>\n",
       "    <tr>\n",
       "      <th>POD-NN</th>\n",
       "      <td>0.000</td>\n",
       "      <td>0.0016</td>\n",
       "      <td>0.0000</td>\n",
       "      <td>0.0011</td>\n",
       "    </tr>\n",
       "  </tbody>\n",
       "</table>\n",
       "</div>"
      ],
      "text/plain": [
       "           FOM  Evaluation  Transformation  Reconstruction\n",
       "FOM      5.208      0.0000          0.0000          0.0000\n",
       "sPOD-NN  0.000      0.0083          0.0282          0.0019\n",
       "sPOD-I   0.000      0.0000          0.0064          0.0085\n",
       "POD-NN   0.000      0.0016          0.0000          0.0011"
      ]
     },
     "execution_count": 2,
     "metadata": {},
     "output_type": "execute_result"
    }
   ],
   "source": [
    "plotdata_1 = pd.DataFrame({\n",
    "    \"FOM\":[5.208, 0, 0, 0],\n",
    "    \"Evaluation\":[0, 0.0083, 0, 0.0016],\n",
    "    \"Transformation\":[0, 0.0282, 0.0064, 0],\n",
    "    \"Reconstruction\":[0, 0.0019, 0.0085, 0.0011]\n",
    "    }, \n",
    "    index=[\"FOM\", \"sPOD-NN\", \"sPOD-I\", \"POD-NN\"]\n",
    ")\n",
    "plotdata_1.head()"
   ]
  },
  {
   "cell_type": "code",
   "execution_count": 3,
   "metadata": {},
   "outputs": [
    {
     "data": {
      "text/html": [
       "<div>\n",
       "<style scoped>\n",
       "    .dataframe tbody tr th:only-of-type {\n",
       "        vertical-align: middle;\n",
       "    }\n",
       "\n",
       "    .dataframe tbody tr th {\n",
       "        vertical-align: top;\n",
       "    }\n",
       "\n",
       "    .dataframe thead th {\n",
       "        text-align: right;\n",
       "    }\n",
       "</style>\n",
       "<table border=\"1\" class=\"dataframe\">\n",
       "  <thead>\n",
       "    <tr style=\"text-align: right;\">\n",
       "      <th></th>\n",
       "      <th>FOM</th>\n",
       "      <th>Evaluation</th>\n",
       "      <th>Transformation</th>\n",
       "      <th>Reconstruction</th>\n",
       "      <th>Cart-Pol-Cart</th>\n",
       "    </tr>\n",
       "  </thead>\n",
       "  <tbody>\n",
       "    <tr>\n",
       "      <th>FOM</th>\n",
       "      <td>63.2336</td>\n",
       "      <td>0.0000</td>\n",
       "      <td>0.0000</td>\n",
       "      <td>0.0000</td>\n",
       "      <td>0.000</td>\n",
       "    </tr>\n",
       "    <tr>\n",
       "      <th>sPOD-NN</th>\n",
       "      <td>0.0000</td>\n",
       "      <td>0.0070</td>\n",
       "      <td>0.0005</td>\n",
       "      <td>0.1628</td>\n",
       "      <td>0.414</td>\n",
       "    </tr>\n",
       "    <tr>\n",
       "      <th>sPOD-I</th>\n",
       "      <td>0.0000</td>\n",
       "      <td>0.0000</td>\n",
       "      <td>0.0000</td>\n",
       "      <td>0.1508</td>\n",
       "      <td>0.414</td>\n",
       "    </tr>\n",
       "    <tr>\n",
       "      <th>POD-NN</th>\n",
       "      <td>0.0000</td>\n",
       "      <td>0.0014</td>\n",
       "      <td>0.0000</td>\n",
       "      <td>0.0110</td>\n",
       "      <td>0.000</td>\n",
       "    </tr>\n",
       "  </tbody>\n",
       "</table>\n",
       "</div>"
      ],
      "text/plain": [
       "             FOM  Evaluation  Transformation  Reconstruction  Cart-Pol-Cart\n",
       "FOM      63.2336      0.0000          0.0000          0.0000          0.000\n",
       "sPOD-NN   0.0000      0.0070          0.0005          0.1628          0.414\n",
       "sPOD-I    0.0000      0.0000          0.0000          0.1508          0.414\n",
       "POD-NN    0.0000      0.0014          0.0000          0.0110          0.000"
      ]
     },
     "execution_count": 3,
     "metadata": {},
     "output_type": "execute_result"
    }
   ],
   "source": [
    "plotdata_2 = pd.DataFrame({\n",
    "    \"FOM\":[63.2336, 0, 0, 0],\n",
    "    \"Evaluation\":[0, 0.0070, 0, 0.0014],\n",
    "    \"Transformation\":[0, 0.0005, 0.0000, 0],\n",
    "    \"Reconstruction\":[0, 0.1628, 0.1508, 0.0110],\n",
    "    \"Cart-Pol-Cart\":[0, 0.4140, 0.4140, 0]\n",
    "    }, \n",
    "    index=[\"FOM\", \"sPOD-NN\", \"sPOD-I\", \"POD-NN\"]\n",
    ")\n",
    "plotdata_2.head()"
   ]
  },
  {
   "cell_type": "code",
   "execution_count": 4,
   "metadata": {},
   "outputs": [
    {
     "name": "stderr",
     "output_type": "stream",
     "text": [
      "The PostScript backend does not support transparency; partially transparent artists will be rendered opaque.\n",
      "Failed to find a Ghostscript installation.  Distillation step skipped.\n"
     ]
    },
    {
     "data": {
      "image/png": "[encoded data removed]",
      "text/plain": [
       "<Figure size 864x576 with 2 Axes>"
      ]
     },
     "metadata": {
      "needs_background": "light"
     },
     "output_type": "display_data"
    }
   ],
   "source": [
    "fig, axs = plt.subplots(1, 2, figsize=(12, 8))\n",
    "\n",
    "plotdata_1.plot(kind='bar', stacked=True, ax=axs[0])\n",
    "axs[0].tick_params(axis ='x', rotation = 45)\n",
    "axs[0].set_yscale('log')\n",
    "axs[0].set_title('1D model')\n",
    "axs[0].grid()\n",
    "axs[0].legend(loc='upper right')\n",
    "\n",
    "plotdata_2.plot(kind='bar', stacked=True, ax=axs[1])\n",
    "axs[1].tick_params(axis ='x', rotation = 45)\n",
    "axs[1].set_yscale('log')\n",
    "axs[1].set_title('2D model')\n",
    "axs[1].grid()\n",
    "axs[1].legend(loc='upper right')\n",
    "\n",
    "\n",
    "fig.supxlabel('Approach')\n",
    "fig.supylabel('Time (s)')\n",
    "\n",
    "save_fig(filepath=impath + 'Time_study', figure=fig)\n",
    "fig.savefig(impath + \"Time_study\" + \".eps\", format='eps',dpi=600, transparent=True)"
   ]
  },
  {
   "cell_type": "code",
   "execution_count": null,
   "metadata": {},
   "outputs": [],
   "source": []
  }
 ],
 "metadata": {
  "kernelspec": {
   "display_name": "Python 3 (ipykernel)",
   "language": "python",
   "name": "python3"
  },
  "language_info": {
   "codemirror_mode": {
    "name": "ipython",
    "version": 3
   },
   "file_extension": ".py",
   "mimetype": "text/x-python",
   "name": "python",
   "nbconvert_exporter": "python",
   "pygments_lexer": "ipython3",
   "version": "3.9.10"
  }
 },
 "nbformat": 4,
 "nbformat_minor": 1
}
