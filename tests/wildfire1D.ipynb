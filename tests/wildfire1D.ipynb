{
 "cells": [
  {
   "cell_type": "markdown",
   "id": "a219ecef",
   "metadata": {
    "pycharm": {
     "name": "#%% md\n"
    }
   },
   "source": [
    "# Parametric non-intrusive model order reduction for 1D wildland fire model\n",
    "\n",
    "Here we describe the application of methods sPOD-NN, sPOD-I and POD-NN on a 1D wildland fire model without any topological changes. The model equations are given in Eq.(31) and Eq.(32) of the paper. The wind velocity is considered to be 0. The results generated in this script are shown in Sec.(3.1.1) in the paper as well."
   ]
  },
  {
   "cell_type": "code",
   "execution_count": 1,
   "id": "3c09eef3",
   "metadata": {
    "pycharm": {
     "name": "#%%\n"
    }
   },
   "outputs": [],
   "source": [
    "import sys\n",
    "sys.path.append('../sPOD/lib/')\n",
    "sys.path.append('../DL-ROM/LIB/')"
   ]
  },
  {
   "cell_type": "code",
   "execution_count": 2,
   "id": "58ba80fd",
   "metadata": {
    "pycharm": {
     "name": "#%%\n"
    }
   },
   "outputs": [],
   "source": [
    "from wildfire1D_sup import wildfire1D_sup\n",
    "import numpy as np"
   ]
  },
  {
   "cell_type": "markdown",
   "id": "9c78cc59",
   "metadata": {
    "pycharm": {
     "name": "#%% md\n"
    }
   },
   "source": [
    "## Basis reconstruction for the 1D wildland fire model\n",
    "\n",
    "In this part we : \n",
    "\n",
    "<ul>\n",
    "<li>Load the 1D wildland fire data.</li>\n",
    "<li>Perform sPOD and POD on the generated data.</li>\n",
    "<li>Extract the time amplitudes according to Eq.(9) and Eq.(15) from the paper.</li>\n",
    "</ul>\n",
    "\n",
    "The inputs here include : \n",
    "<ul>\n",
    "<li>$variable$ which is to be set as 0 for \"Temperature\" and 1 for \"Supply mass fraction\".</li>\n",
    "<li>$test\\_val$ is the parameter value at which the testing is performed.</li>\n",
    "</ul>\n",
    "\n",
    "The sPOD algorithm has to run only once for the basis reconstruction and the results necessary for subsequent steps are stored to save repeated time and effort."
   ]
  },
  {
   "cell_type": "code",
   "execution_count": 3,
   "id": "8a38a3b8",
   "metadata": {},
   "outputs": [],
   "source": [
    "variable = 0\n",
    "test_val = 558.49\n",
    "\n",
    "if variable == 0:\n",
    "    name = \"T\"\n",
    "else:\n",
    "    name = \"S\""
   ]
  },
  {
   "cell_type": "code",
   "execution_count": 4,
   "id": "fe8fd250",
   "metadata": {
    "pycharm": {
     "name": "#%%\n"
    },
    "scrolled": false
   },
   "outputs": [],
   "source": [
    "import os\n",
    "\n",
    "q = np.load(os.path.abspath(\".\") + '/wildfire_data/1D/' + 'SnapShotMatrix' + str(test_val) + '.npy')\n",
    "shifts_test= np.load(os.path.abspath(\".\") + '/wildfire_data/1D/' + 'Shifts' + str(test_val) + '.npy')\n",
    "\n",
    "df = wildfire1D_sup(q, shifts_test, param_test_val=test_val, var=variable)"
   ]
  },
  {
   "cell_type": "markdown",
   "id": "b9f2c1e2",
   "metadata": {},
   "source": [
    "sPOD to be performed only once and the results to be stored"
   ]
  },
  {
   "cell_type": "code",
   "execution_count": null,
   "id": "de06e6bf",
   "metadata": {
    "scrolled": false
   },
   "outputs": [],
   "source": [
    "############################# Run sPOD on the data ########################## (only once)\n",
    "impath = \"./wildfire_data/1D/save_Wildfire/\" + name + \"/\"\n",
    "import os\n",
    "import pickle\n",
    "os.makedirs(impath, exist_ok=True)\n",
    "\n",
    "Q_frames, U_list, TA_list_training, TA_list_interp, spod_modes = df.run_sPOD(spod_iter=2000)\n",
    "\n",
    "with open(impath + 'Q_frames.data', 'wb') as filehandle:\n",
    "    pickle.dump(Q_frames, filehandle)\n",
    "with open(impath + 'U_list.data', 'wb') as filehandle:\n",
    "    pickle.dump(U_list, filehandle)\n",
    "with open(impath + 'TA_list_training.data', 'wb') as filehandle:\n",
    "    pickle.dump(TA_list_training, filehandle)\n",
    "with open(impath + 'TA_list_interp.data', 'wb') as filehandle:\n",
    "    pickle.dump(TA_list_interp, filehandle)\n",
    "with open(impath + 'spod_modes.data', 'wb') as filehandle:\n",
    "    pickle.dump(spod_modes, filehandle)"
   ]
  },
  {
   "cell_type": "code",
   "execution_count": null,
   "id": "409b982a",
   "metadata": {},
   "outputs": [],
   "source": [
    "impath = \"./wildfire_data/1D/save_Wildfire/\" + name + \"/\"\n",
    "import os\n",
    "import pickle\n",
    "\n",
    "with open(impath + 'Q_frames.data', 'rb') as filehandle:\n",
    "    Q_frames = pickle.load(filehandle) \n",
    "with open(impath + 'U_list.data', 'rb') as filehandle:\n",
    "    U_list = pickle.load(filehandle) \n",
    "with open(impath + 'TA_list_training.data', 'rb') as filehandle:\n",
    "    TA_list_training = pickle.load(filehandle) \n",
    "with open(impath + 'TA_list_interp.data', 'rb') as filehandle:\n",
    "    TA_list_interp = pickle.load(filehandle) \n",
    "with open(impath + 'spod_modes.data', 'rb') as filehandle:\n",
    "    spod_modes = pickle.load(filehandle) \n",
    "    \n",
    "TA_TRAIN = np.concatenate(TA_list_training, axis=0)\n",
    "SHIFTS_TRAIN = [df.shifts_train[0], df.shifts_train[2]]\n",
    "PARAMS_TRAIN = df.params_train"
   ]
  },
  {
   "cell_type": "markdown",
   "id": "ef40eaaa",
   "metadata": {},
   "source": [
    "POD"
   ]
  },
  {
   "cell_type": "code",
   "execution_count": null,
   "id": "b0368179",
   "metadata": {},
   "outputs": [],
   "source": [
    "u, s, vt = np.linalg.svd(np.squeeze(df.q_train), full_matrices=False)\n",
    "\n",
    "U_POD_TRAIN = u[:, :sum(spod_modes) + df.NumFrames - 1]\n",
    "TA_POD_TRAIN = np.diag(s[:sum(spod_modes) + df.NumFrames - 1]) @ vt[:sum(spod_modes) + df.NumFrames - 1, :]"
   ]
  },
  {
   "cell_type": "markdown",
   "id": "f441509b",
   "metadata": {
    "pycharm": {
     "name": "#%% md\n"
    }
   },
   "source": [
    "Here the testing data is assembled. The sPOD and POD are performed on the testing data and then time amplitudes and shifts are extracted. These are used for final error calculations. The sPOD on the testing data is also performed only once for saving time and effort."
   ]
  },
  {
   "cell_type": "code",
   "execution_count": null,
   "id": "bb51c960",
   "metadata": {
    "pycharm": {
     "name": "#%%\n"
    },
    "scrolled": true
   },
   "outputs": [],
   "source": [
    "############################# Run sPOD on the test data ########################## (only once)\n",
    "import os\n",
    "impath = \"./wildfire_data/1D/save_Wildfire/\" + name + \"/\" + str(test_val) + \"/\"\n",
    "import pickle\n",
    "os.makedirs(impath, exist_ok=True)\n",
    "\n",
    "Q_frames_test = df.test_data(spod_iter=2000)\n",
    "\n",
    "with open(impath + 'Q_frames_test.data', 'wb') as filehandle:\n",
    "    pickle.dump(Q_frames_test, filehandle)\n",
    "    \n",
    "# Plot the sPOD decomposed frames for test parameter\n",
    "df.plot_sPOD_frames(Q_frames_test)"
   ]
  },
  {
   "cell_type": "code",
   "execution_count": null,
   "id": "8d452638",
   "metadata": {
    "pycharm": {
     "name": "#%%\n"
    }
   },
   "outputs": [],
   "source": [
    "impath = \"./wildfire_data/1D/save_Wildfire/\" + name + \"/\" + str(test_val) + \"/\"\n",
    "import os\n",
    "import pickle\n",
    "\n",
    "with open(impath + 'Q_frames_test.data', 'rb') as filehandle:\n",
    "    Q_frames_test = pickle.load(filehandle) "
   ]
  },
  {
   "cell_type": "code",
   "execution_count": null,
   "id": "78700011",
   "metadata": {},
   "outputs": [],
   "source": [
    "mu_vecs_test = np.asarray([df.param_test_val])\n",
    "params_test = [np.squeeze(np.asarray([[np.ones_like(df.t) * mu], [df.t]])) for mu in mu_vecs_test]\n",
    "PARAMS_TEST = np.concatenate(params_test, axis=1)\n",
    "\n",
    "q1_test = Q_frames_test[0]\n",
    "q2_test = Q_frames_test[1]\n",
    "q3_test = Q_frames_test[2]\n",
    "\n",
    "time_amplitudes_1_test = U_list[0].transpose() @ q1_test\n",
    "time_amplitudes_2_test = U_list[1].transpose() @ q2_test\n",
    "time_amplitudes_3_test = U_list[2].transpose() @ q3_test\n",
    "TA_TEST = np.concatenate((time_amplitudes_1_test, \n",
    "                          time_amplitudes_2_test, \n",
    "                          time_amplitudes_3_test), axis=0)\n",
    "\n",
    "SHIFTS_TEST = [df.shifts_test[0], df.shifts_test[2]]\n",
    "\n",
    "TA_POD_TEST = U_POD_TRAIN.transpose() @ df.q_test"
   ]
  },
  {
   "cell_type": "markdown",
   "id": "d065f16e",
   "metadata": {},
   "source": [
    "We assemble the $\\hat{A}$ matrix according to the Eq.(18) from the paper."
   ]
  },
  {
   "cell_type": "code",
   "execution_count": null,
   "id": "f82ae8ed",
   "metadata": {
    "pycharm": {
     "name": "#%%\n"
    }
   },
   "outputs": [],
   "source": [
    "# \"0\" shift has not been included in the prediction \n",
    "shifts_train = np.concatenate((np.reshape(SHIFTS_TRAIN[0], newshape=[1, -1]), np.reshape(SHIFTS_TRAIN[1], newshape=[1, -1])), axis=0)\n",
    "shifts_test = np.concatenate((np.reshape(SHIFTS_TEST[0], newshape=[1, -1]), np.reshape(SHIFTS_TEST[1], newshape=[1, -1])), axis=0)\n",
    "\n",
    "ta_train = np.concatenate((TA_TRAIN, shifts_train), axis=0)\n",
    "ta_test = np.concatenate((TA_TEST, shifts_test), axis=0)"
   ]
  },
  {
   "cell_type": "code",
   "execution_count": null,
   "id": "f0ad58c3",
   "metadata": {},
   "outputs": [],
   "source": [
    "print(\"Grid, Nx : {}, Nt : {}\".format(len(df.x), len(df.t)))\n",
    "print(\"Number of sPOD frames : {}\".format(len(spod_modes)))\n",
    "print(\"Number of modes (frame wise) : {}, {}, {}\".format(spod_modes[0], spod_modes[1], spod_modes[2]))\n",
    "print(\"Size of training matrix : {} x {}\".format(int(ta_train.shape[0]), int(ta_train.shape[1])))"
   ]
  },
  {
   "cell_type": "markdown",
   "id": "145a70c6",
   "metadata": {
    "pycharm": {
     "name": "#%% md\n"
    }
   },
   "source": [
    "## Neural network training\n",
    "\n",
    "Based on the data which we obtain from the previous step we train our neural network. For the training we first define certain parameters needed for training step. The parameters are mentioned here are:\n",
    "\n",
    "<ul>\n",
    "<li>$scaling$ activates the min-max data scaling for efficient training.</li>\n",
    "<li>$full\\_order\\_model\\_dimension$ is effectively $M$ which is the total number of grid points.</li>\n",
    "<li>$reduced\\_order\\_model\\_dimension$ is $n_{\\mathrm{dof}}$ mentioned in Eq.(21) in the paper.</li>\n",
    "<li>$totalModes$ is the total number of modes.</li>\n",
    "<li>$num\\_early\\_stop$ defines the early stopping criteria for training step.</li>\n",
    "</ul>\n",
    "\n",
    "Subsequently the hyperparameters are:\n",
    "<ul>\n",
    "<li>$epochs$ sets the total number of epochs for training.</li>\n",
    "<li>$lr$ sets the learning rate for training.</li>\n",
    "<li>$loss\\_type$ is the type of loss to consider while training options being $L1$ or $MSE$.</li>\n",
    "<li>$batch\\_size$ sets the total number of minibatches for the training data to be broken down into for effective training.</li>\n",
    "</ul>"
   ]
  },
  {
   "cell_type": "code",
   "execution_count": null,
   "id": "caf9ffa3",
   "metadata": {
    "pycharm": {
     "name": "#%%\n"
    }
   },
   "outputs": [],
   "source": [
    "params_sPOD = {\n",
    "        'scaling': True,\n",
    "        'full_order_model_dimension': len(df.x),\n",
    "        'reduced_order_model_dimension': ta_train.shape[0],\n",
    "        'totalModes': ta_train.shape[0] - len(spod_modes) + 1,\n",
    "        'num_early_stop': 3000  \n",
    "    }\n",
    "params_POD = {\n",
    "        'scaling': True, \n",
    "        'full_order_model_dimension': len(df.x),\n",
    "        'reduced_order_model_dimension': TA_POD_TRAIN.shape[0],\n",
    "        'totalModes': TA_POD_TRAIN.shape[0],\n",
    "        'num_early_stop': 3000\n",
    "    }"
   ]
  },
  {
   "cell_type": "code",
   "execution_count": null,
   "id": "9e2aa490",
   "metadata": {
    "pycharm": {
     "name": "#%%\n"
    },
    "scrolled": true
   },
   "outputs": [],
   "source": [
    "# training the model\n",
    "from DFNN import run_model \n",
    "import time\n",
    "tic_sPOD = time.process_time() \n",
    "print(\"#################################\")\n",
    "print(\"sPOD-NN\")\n",
    "model_sPOD, _, scaling_sPOD = run_model(ta_train, PARAMS_TRAIN, epochs=100000, lr=0.005, loss_type='L1', \n",
    "                                        logs_folder='./DNN_result/wildfire1D/training_results_sPOD/' + name, \n",
    "                                        params=params_sPOD, batch_size=100)\n",
    "print(\"#################################\\n\")\n",
    "toc_sPOD = time.process_time()\n",
    "\n",
    "tic_POD = time.process_time()\n",
    "print(\"#################################\")\n",
    "print(\"POD-NN\")\n",
    "model_POD, _, scaling_POD = run_model(TA_POD_TRAIN, PARAMS_TRAIN, epochs=100000, lr=0.005, loss_type='L1', \n",
    "                                      logs_folder='./DNN_result/wildfire1D/training_results_POD/' + name, \n",
    "                                      params=params_POD, batch_size=100)\n",
    "print(\"#################################\\n\")\n",
    "toc_POD = time.process_time()\n",
    "\n",
    "print(f\"Time consumption in training (sPOD-NN) : {toc_sPOD - tic_sPOD:0.4f} seconds\")\n",
    "print(f\"Time consumption in training (POD-NN) : {toc_POD - tic_POD:0.4f} seconds\")"
   ]
  },
  {
   "cell_type": "markdown",
   "id": "94db16f5",
   "metadata": {},
   "source": [
    "## Neural network prediction\n",
    "\n",
    "After the training is finished the best weights are saved for network prediction. Here those weights are loaded and the prediction is performed. The dictionary $test$ is defined here which determines whether to run a multi-query scenario or full prediction scenario. If $test['typeOfTest'] = \"query\"$ then the multi-query scenario is run for which $test['typeOfTest'] = 400$ sets the time step at which the prediction has to be performed. \n",
    "\n",
    "Plotting function is only activated for $test['typeOfTest'] = \"full\"$ which gives us the full prediction throughout all the time steps."
   ]
  },
  {
   "cell_type": "code",
   "execution_count": null,
   "id": "561b3c2d",
   "metadata": {},
   "outputs": [],
   "source": [
    "test = {\n",
    "    'typeOfTest': \"query\",\n",
    "    'test_sample': 400\n",
    "}"
   ]
  },
  {
   "cell_type": "code",
   "execution_count": null,
   "id": "4a62f6bb",
   "metadata": {
    "pycharm": {
     "name": "#%%\n"
    }
   },
   "outputs": [],
   "source": [
    "import torch\n",
    "import pathlib\n",
    "import os\n",
    "from DFNN import scale_params\n",
    "\n",
    "# Load the correct model\n",
    "log_folder_base_sPOD = 'DNN_result/wildfire1D/training_results_sPOD/' + name + '/'\n",
    "log_folder_trained_model_sPOD = sorted(pathlib.Path(log_folder_base_sPOD).glob('*/'), key=os.path.getmtime)[-1]\n",
    "PATH_sPOD = str(log_folder_trained_model_sPOD) + '/trained_weights/' + 'weights.pt'\n",
    "\n",
    "log_folder_base_POD = 'DNN_result/wildfire1D/training_results_POD/' + name + '/'\n",
    "log_folder_trained_model_POD = sorted(pathlib.Path(log_folder_base_POD).glob('*/'), key=os.path.getmtime)[-1]\n",
    "PATH_POD = str(log_folder_trained_model_POD) + '/trained_weights/' + 'weights.pt'\n",
    "\n",
    "PATH_sPOD = 'DNN_result/wildfire1D/training_results_sPOD/' + name + '/2023_02_07__14-07-57/trained_weights/weights.pt'\n",
    "PATH_POD = 'DNN_result/wildfire1D/training_results_POD/' + name + '/2023_02_07__14-16-32/trained_weights/weights.pt'\n",
    "\n",
    "# Scale the parameters before prediction\n",
    "if '/trained_weights/weights.pt' in PATH_sPOD: address_sPOD = PATH_sPOD.replace('/trained_weights/weights.pt', '')\n",
    "scaling_sPOD = np.load(address_sPOD + '/variables/' + 'scaling.npy', allow_pickle=True)\n",
    "\n",
    "if '/trained_weights/weights.pt' in PATH_POD: address_POD = PATH_POD.replace('/trained_weights/weights.pt', '')\n",
    "scaling_POD = np.load(address_POD + '/variables/' + 'scaling.npy', allow_pickle=True)\n",
    "\n",
    "PARAMS_TEST_sPOD = scale_params(PARAMS_TEST, params_sPOD, scaling_sPOD)\n",
    "PARAMS_TEST_POD = scale_params(PARAMS_TEST, params_POD, scaling_POD)"
   ]
  },
  {
   "cell_type": "code",
   "execution_count": null,
   "id": "eef868d2",
   "metadata": {},
   "outputs": [],
   "source": [
    "if test['typeOfTest'] == \"query\":\n",
    "    test_sample = test['test_sample']\n",
    "    \n",
    "    ta_test = ta_test[:, test_sample][..., np.newaxis]\n",
    "    \n",
    "    TA_TEST = TA_TEST[:, test_sample][..., np.newaxis]\n",
    "    TA_POD_TEST = TA_POD_TEST[:, test_sample][..., np.newaxis]\n",
    "    \n",
    "    tmp = []\n",
    "    for i in range(df.NumFrames):\n",
    "        tt = []\n",
    "        for m in range(spod_modes[i]):\n",
    "            ampl = TA_list_interp[i][m][test_sample, :][np.newaxis, ...]\n",
    "            tt.append(ampl)\n",
    "        tmp.append(tt)\n",
    "    TA_list_interp = tmp\n",
    "    \n",
    "    SHIFTS_TEST[0] = SHIFTS_TEST[0][test_sample]\n",
    "    SHIFTS_TEST[1] = SHIFTS_TEST[1][test_sample]\n",
    "    \n",
    "    PARAMS_TEST_sPOD = PARAMS_TEST_sPOD[:, test_sample][..., np.newaxis]\n",
    "    PARAMS_TEST_POD = PARAMS_TEST_POD[:, test_sample][..., np.newaxis]"
   ]
  },
  {
   "cell_type": "code",
   "execution_count": null,
   "id": "74a18b64",
   "metadata": {
    "pycharm": {
     "name": "#%%\n"
    },
    "scrolled": true
   },
   "outputs": [],
   "source": [
    "# testing the model\n",
    "from DFNN import test_model \n",
    "import time \n",
    "\n",
    "tic = time.process_time()\n",
    "rel_err_sPOD, results_predicted_sPOD = test_model(ta_test, PARAMS_TEST_sPOD, trained_model=None, saved_model=True, \n",
    "                                                  PATH_TO_WEIGHTS=PATH_sPOD, params=params_sPOD, scaling=scaling_sPOD, \n",
    "                                                  batch_size=100) \n",
    "toc = time.process_time()\n",
    "print(f\"Time consumption in testing sPOD-NN model : {toc - tic:0.4f} seconds\")\n",
    "\n",
    "tic = time.process_time()\n",
    "rel_err_POD, results_predicted_POD = test_model(TA_POD_TEST, PARAMS_TEST_POD, trained_model=None, saved_model=True, \n",
    "                                                PATH_TO_WEIGHTS=PATH_POD, params=params_POD, scaling=scaling_POD, \n",
    "                                                batch_size=100)\n",
    "toc = time.process_time()\n",
    "print(f\"Time consumption in testing POD-NN model : {toc - tic:0.4f} seconds\")"
   ]
  },
  {
   "cell_type": "markdown",
   "id": "4b4893a7",
   "metadata": {},
   "source": [
    "Once the predictions for the time amplitudes and the shifts had been made we now reconstruct the snapshot according to Eq.(12) and Eq.(20) for POD and sPOD based methods respectively"
   ]
  },
  {
   "cell_type": "code",
   "execution_count": null,
   "id": "03e89978",
   "metadata": {
    "pycharm": {
     "name": "#%%\n"
    }
   },
   "outputs": [],
   "source": [
    "# This cell is reserved for data manipulations for the online analysis\n",
    "frame_amplitudes_predicted_sPOD = results_predicted_sPOD[:-2, :]\n",
    "shifts_predicted_sPOD = results_predicted_sPOD[-2:, :]\n",
    "frame_amplitudes_predicted_POD = results_predicted_POD"
   ]
  },
  {
   "cell_type": "code",
   "execution_count": null,
   "id": "204744d6",
   "metadata": {
    "pycharm": {
     "name": "#%%\n"
    },
    "scrolled": false
   },
   "outputs": [],
   "source": [
    "errors = df.plot_online_data(frame_amplitudes_predicted_sPOD, frame_amplitudes_predicted_POD, TA_TEST, \n",
    "                             TA_POD_TEST, TA_list_interp, shifts_predicted_sPOD, SHIFTS_TEST, spod_modes, \n",
    "                             U_list, U_POD_TRAIN, Q_frames_test, plot_online=False, test_type=test)"
   ]
  }
 ],
 "metadata": {
  "kernelspec": {
   "display_name": "Python 3 (ipykernel)",
   "language": "python",
   "name": "python3"
  },
  "language_info": {
   "codemirror_mode": {
    "name": "ipython",
    "version": 3
   },
   "file_extension": ".py",
   "mimetype": "text/x-python",
   "name": "python",
   "nbconvert_exporter": "python",
   "pygments_lexer": "ipython3",
   "version": "3.9.10"
  }
 },
 "nbformat": 4,
 "nbformat_minor": 5
}
