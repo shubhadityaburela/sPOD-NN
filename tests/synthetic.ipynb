{
 "cells": [
  {
   "cell_type": "markdown",
   "id": "a219ecef",
   "metadata": {},
   "source": [
    "# sPOD-NN for synthetic data"
   ]
  },
  {
   "cell_type": "code",
   "execution_count": null,
   "id": "3c09eef3",
   "metadata": {},
   "outputs": [],
   "source": [
    "import sys\n",
    "sys.path.append('../sPOD/lib/')\n",
    "sys.path.append('../DL-ROM/LIB/')"
   ]
  },
  {
   "cell_type": "code",
   "execution_count": null,
   "id": "58ba80fd",
   "metadata": {},
   "outputs": [],
   "source": [
    "from synthetic_sup import synthetic_sup\n",
    "import numpy as np"
   ]
  },
  {
   "cell_type": "markdown",
   "id": "9c78cc59",
   "metadata": {},
   "source": [
    "## Data generation / sPOD of the data"
   ]
  },
  {
   "cell_type": "code",
   "execution_count": null,
   "id": "fe8fd250",
   "metadata": {
    "scrolled": true
   },
   "outputs": [],
   "source": [
    "df = synthetic_sup(spod_iter=300, plot_offline_data=True)"
   ]
  },
  {
   "cell_type": "markdown",
   "id": "6313ef62",
   "metadata": {},
   "source": [
    "## Input data for sPOD-NN "
   ]
  },
  {
   "cell_type": "code",
   "execution_count": null,
   "id": "889026db",
   "metadata": {},
   "outputs": [],
   "source": [
    "# We collect the time amplitudes, shifts and the parameters for the training as well as the testing data.\n",
    "TA_TRAIN = df.TA_TRAIN\n",
    "SHIFTS_TRAIN = df.SHIFTS_TRAIN\n",
    "PARAMS_TRAIN = df.PARAMS_TRAIN\n",
    "TA_TEST = df.TA_TEST\n",
    "SHIFTS_TEST = df.SHIFTS_TEST\n",
    "PARAMS_TEST = df.PARAMS_TEST\n",
    "TA_POD_TRAIN = df.TA_POD_TRAIN\n",
    "TA_POD_TEST = df.TA_POD_TEST"
   ]
  },
  {
   "cell_type": "markdown",
   "id": "4a67733f",
   "metadata": {},
   "source": [
    "## ---------------------------------------------------"
   ]
  },
  {
   "cell_type": "code",
   "execution_count": null,
   "id": "34b60b45",
   "metadata": {},
   "outputs": [],
   "source": [
    "# ###################################### Only for DoF study #######################################\n",
    "# # No need to be performed again \n",
    "# # The results are shown in the paper\n",
    "\n",
    "# import matplotlib.pyplot as plt\n",
    "# import os\n",
    "# from sklearn.utils.extmath import randomized_svd\n",
    "# from Helper import *\n",
    "# ############################################\n",
    "\n",
    "# frame_wise_sPOD = [1, 1]\n",
    "# time_amplitudes_1 = TA_TRAIN[:df.nmodes, :]\n",
    "# time_amplitudes_2 = TA_TRAIN[df.nmodes:, :]\n",
    "# frame_amplitudes_training = [\n",
    "#     time_amplitudes_1[:frame_wise_sPOD[0], :],\n",
    "#     time_amplitudes_2[:frame_wise_sPOD[1], :]\n",
    "# ]\n",
    "# TA_TRAIN = np.concatenate(frame_amplitudes_training, axis=0)\n",
    "\n",
    "# df.U_list[0] = df.U_list[0][:, :frame_wise_sPOD[0]]\n",
    "# df.U_list[1] = df.U_list[1][:, :frame_wise_sPOD[1]]\n",
    "# spodModes = frame_wise_sPOD\n",
    "\n",
    "# time_amplitudes_1_test = df.U_list[0].transpose() @ df.q1_test\n",
    "# time_amplitudes_2_test = df.U_list[1].transpose() @ df.q2_test\n",
    "# amplitudes_test = np.concatenate((time_amplitudes_1_test, time_amplitudes_2_test), axis=0)\n",
    "# df.TA_TEST = amplitudes_test\n",
    "# TA_TEST = df.TA_TEST\n",
    "\n",
    "# ############################################   \n",
    "\n",
    "# frame_amplitudes_list_interp = []\n",
    "# for frame in range(2):\n",
    "#     Nmodes = spodModes[frame]\n",
    "#     VT = frame_amplitudes_training[frame]\n",
    "#     amplitudes = [np.reshape(VT[n, :], [df.Nsamples_train, len(df.t)]).T for n in range(Nmodes)]\n",
    "#     frame_amplitudes_list_interp.append(amplitudes)\n",
    "\n",
    "# df.TA_list_interp = frame_amplitudes_list_interp      \n",
    "# ############################################    \n",
    "\n",
    "# frame_wise_POD = sum(frame_wise_sPOD) + 2\n",
    "# df.U_POD_TRAIN = df.U_POD_TRAIN[:, :frame_wise_POD]\n",
    "# df.TA_POD_TRAIN = df.TA_POD_TRAIN[:frame_wise_POD, :]\n",
    "# TA_POD_TRAIN = df.TA_POD_TRAIN\n",
    "\n",
    "# df.TA_POD_TEST = df.U_POD_TRAIN.transpose() @ df.q_test\n",
    "# TA_POD_TEST = df.TA_POD_TEST\n",
    "# ############################################\n",
    "\n",
    "# data_shape = [len(df.x), 1, 1, 5*len(df.t)]\n",
    "# dx = df.x[1] - df.x[0]\n",
    "# L = [df.x[-1]]\n",
    "\n",
    "# q_train = [df.U_list[0] @ frame_amplitudes_training[0], \n",
    "#           df.U_list[1] @ frame_amplitudes_training[1]]\n",
    "\n",
    "# trafos = df.trafos_train\n",
    "\n",
    "# NumFrames = 2\n",
    "# q_sPOD = 0\n",
    "# for frame in range(NumFrames):\n",
    "#     q_sPOD += trafos[frame].apply(q_train[frame])\n",
    "# ############################################\n",
    "# q_POD = df.U_POD_TRAIN @ df.TA_POD_TRAIN\n",
    "# ############################################\n",
    "# q_original = df.q_train[0:len(df.x), :]\n",
    "# ############################################\n",
    "\n",
    "# num1 = np.sqrt(np.mean(np.linalg.norm(q_original - q_sPOD, 2, axis=1) ** 2))\n",
    "# den1 = np.sqrt(np.mean(np.linalg.norm(q_original, 2, axis=1) ** 2))\n",
    "\n",
    "# num2 = np.sqrt(np.mean(np.linalg.norm(q_original - q_POD, 2, axis=1) ** 2))\n",
    "# den2 = np.sqrt(np.mean(np.linalg.norm(q_original, 2, axis=1) ** 2))\n",
    "\n",
    "# df.D = 1\n",
    "# df.nmodes = 1\n",
    "\n",
    "# print(\"Error for sPOD recons. is {}\".format(num1 / den1))\n",
    "# print(\"Error for POD recons. is {}\".format(num2 / den2))\n"
   ]
  },
  {
   "cell_type": "markdown",
   "id": "9fc8bd4c",
   "metadata": {},
   "source": [
    "## ---------------------------------------------------"
   ]
  },
  {
   "cell_type": "code",
   "execution_count": null,
   "id": "27ca22da",
   "metadata": {},
   "outputs": [],
   "source": [
    "print(\"Grid, Nx : {}, Nt : {}\".format(df.Nx, df.Nt))\n",
    "print(\"Number of sPOD frames : {}\".format(df.NumFrames))\n",
    "print(\"Number of modes per frame : {}\".format(df.nmodes))\n",
    "print(\"Number of parameter instances : {}\".format(int(int(TA_TRAIN.shape[1]) / df.Nt)))\n",
    "print(\"Size of training matrix : {} x {}\".format(int(TA_TRAIN.shape[0]), int(TA_TRAIN.shape[1])))"
   ]
  },
  {
   "cell_type": "code",
   "execution_count": null,
   "id": "f82ae8ed",
   "metadata": {},
   "outputs": [],
   "source": [
    "# Data manipulations needed for the network input\n",
    "shifts_train = np.concatenate((np.reshape(SHIFTS_TRAIN[0], newshape=[1, -1]), np.reshape(SHIFTS_TRAIN[1], newshape=[1, -1])), axis=0)\n",
    "shifts_test = np.concatenate((np.reshape(SHIFTS_TEST[0], newshape=[1, -1]), np.reshape(SHIFTS_TEST[1], newshape=[1, -1])), axis=0)\n",
    "\n",
    "ta_train = np.concatenate((TA_TRAIN, shifts_train), axis=0)\n",
    "ta_test = np.concatenate((TA_TEST, shifts_test), axis=0)"
   ]
  },
  {
   "cell_type": "markdown",
   "id": "2b7c1bb0",
   "metadata": {},
   "source": [
    "## Network prediction"
   ]
  },
  {
   "cell_type": "code",
   "execution_count": null,
   "id": "b4b3d2dd",
   "metadata": {},
   "outputs": [],
   "source": [
    "params_sPOD = {\n",
    "        'scaling': True,  # true if the data should be scaled\n",
    "        'full_order_model_dimension': df.Nx,  # N_h\n",
    "        'reduced_order_model_dimension': ta_train.shape[0],  # N\n",
    "        'totalModes': ta_train.shape[0] - df.NumFrames,  # Total number of modes for all the frames\n",
    "        'num_early_stop': 100000  # early stop criteria \n",
    "    \n",
    "    }\n",
    "params_POD = {\n",
    "        'scaling': True,  # true if the data should be scaled\n",
    "        'full_order_model_dimension': df.Nx,  # N_h\n",
    "        'reduced_order_model_dimension': TA_POD_TRAIN.shape[0],  # N\n",
    "        'totalModes': TA_POD_TRAIN.shape[0],  # Total number of modes for all the frames\n",
    "        'num_early_stop': 500  # early stop criteria \n",
    "    }"
   ]
  },
  {
   "cell_type": "code",
   "execution_count": null,
   "id": "9e2aa490",
   "metadata": {
    "scrolled": true
   },
   "outputs": [],
   "source": [
    "# training the model\n",
    "from DFNN import run_model \n",
    "print(\"#################################\")\n",
    "print(\"sPOD-NN\")\n",
    "trained_model_sPOD, _, scaling_sPOD = run_model(ta_train, PARAMS_TRAIN, epochs=150000, lr=0.0025, loss_type='L1', \n",
    "                                                logs_folder='./DNN_result/synthetic/training_results_sPOD', \n",
    "                                                params=params_sPOD, batch_size=50)\n",
    "print(\"#################################\\n\")\n",
    "print(\"#################################\")\n",
    "print(\"POD-NN\")\n",
    "trained_model_POD, _, scaling_POD = run_model(TA_POD_TRAIN, PARAMS_TRAIN, epochs=150000, lr=0.0025, loss_type='L1',\n",
    "                                              logs_folder='./DNN_result/synthetic/training_results_POD', \n",
    "                                              params=params_POD, batch_size=10)\n",
    "print(\"#################################\\n\")"
   ]
  },
  {
   "cell_type": "code",
   "execution_count": null,
   "id": "ed6f7ecc",
   "metadata": {},
   "outputs": [],
   "source": [
    "# loading the model\n",
    "import torch\n",
    "import pathlib\n",
    "import os\n",
    "\n",
    "log_folder_base_sPOD = 'DNN_result/synthetic/training_results_sPOD/'\n",
    "log_folder_trained_model_sPOD = sorted(pathlib.Path(log_folder_base_sPOD).glob('*/'), key=os.path.getmtime)[-1]\n",
    "PATH_sPOD = str(log_folder_trained_model_sPOD) + '/trained_weights/' + 'weights.pt'\n",
    "\n",
    "log_folder_base_POD = 'DNN_result/synthetic/training_results_POD/'\n",
    "log_folder_trained_model_POD = sorted(pathlib.Path(log_folder_base_POD).glob('*/'), key=os.path.getmtime)[-1]\n",
    "PATH_POD = str(log_folder_trained_model_POD) + '/trained_weights/' + 'weights.pt'\n",
    "\n",
    "PATH_sPOD = 'DNN_result/synthetic/training_results_sPOD/2023_02_10__15-10-53/trained_weights/weights.pt'\n",
    "PATH_POD = 'DNN_result/synthetic/training_results_POD/2023_02_10__15-20-51/trained_weights/weights.pt'"
   ]
  },
  {
   "cell_type": "code",
   "execution_count": null,
   "id": "20e7d674",
   "metadata": {},
   "outputs": [],
   "source": [
    "from DFNN import scale_params\n",
    "PARAMS_TEST_sPOD = scale_params(PARAMS_TEST, params_sPOD, scaling_sPOD)\n",
    "PARAMS_TEST_POD = scale_params(PARAMS_TEST, params_POD, scaling_POD)"
   ]
  },
  {
   "cell_type": "code",
   "execution_count": null,
   "id": "ae2399d3",
   "metadata": {},
   "outputs": [],
   "source": [
    "# testing the model\n",
    "from DFNN import test_model \n",
    "rel_err_sPOD, results_predicted_sPOD = test_model(ta_test, PARAMS_TEST_sPOD, saved_model=True, \n",
    "                                                  PATH_TO_WEIGHTS=PATH_sPOD, params=params_sPOD,\n",
    "                                                  scaling=scaling_sPOD, batch_size=50) \n",
    "rel_err_POD, results_predicted_POD = test_model(TA_POD_TEST, PARAMS_TEST_POD, saved_model=True,\n",
    "                                               PATH_TO_WEIGHTS=PATH_POD, params=params_POD,\n",
    "                                               scaling=scaling_POD, batch_size=10)\n",
    "print(rel_err_sPOD, rel_err_POD)"
   ]
  },
  {
   "cell_type": "markdown",
   "id": "640f9d7b",
   "metadata": {},
   "source": [
    "## Online prediction analysis"
   ]
  },
  {
   "cell_type": "code",
   "execution_count": null,
   "id": "fdd0dc98",
   "metadata": {},
   "outputs": [],
   "source": [
    "# This cell is reserved for data manipulations for the online analysis\n",
    "TA_sPOD_pred = results_predicted_sPOD[:-2, :]\n",
    "shifts_sPOD_pred = results_predicted_sPOD[-2:, :]\n",
    "TA_POD_pred = results_predicted_POD"
   ]
  },
  {
   "cell_type": "code",
   "execution_count": null,
   "id": "204744d6",
   "metadata": {
    "scrolled": false
   },
   "outputs": [],
   "source": [
    "errors = df.OnlinePredictionAnalysis(TA_sPOD_pred, shifts_sPOD_pred, TA_POD_pred, plot_online_data=True)"
   ]
  },
  {
   "cell_type": "markdown",
   "id": "9d78aaa1",
   "metadata": {},
   "source": [
    "## Error plots"
   ]
  },
  {
   "cell_type": "code",
   "execution_count": null,
   "id": "adb116e4",
   "metadata": {},
   "outputs": [],
   "source": [
    "import matplotlib.pyplot as plt\n",
    "import numpy as np\n",
    "import os\n",
    "from Helper import save_fig\n",
    "from statistics import mean\n",
    "\n",
    "impath = \"../plots/images_synthetic/\"\n",
    "os.makedirs(impath, exist_ok=True) \n",
    "\n",
    "plt.rcParams.update({\n",
    "    \"text.usetex\": True,\n",
    "    \"font.family\": \"serif\",\n",
    "    \"font.serif\": [\"Computer Modern\"]})\n",
    "\n",
    "SMALL_SIZE = 16   # 16\n",
    "MEDIUM_SIZE = 18   # 18\n",
    "BIGGER_SIZE = 20   # 20\n",
    "\n",
    "plt.rc('font', size=SMALL_SIZE)          # controls default text sizes\n",
    "plt.rc('axes', titlesize=BIGGER_SIZE)     # fontsize of the axes title\n",
    "plt.rc('axes', labelsize=MEDIUM_SIZE)    # fontsize of the x and y labels\n",
    "plt.rc('xtick', labelsize=MEDIUM_SIZE)    # fontsize of the tick labels\n",
    "plt.rc('ytick', labelsize=MEDIUM_SIZE)    # fontsize of the tick labels\n",
    "plt.rc('legend', fontsize=SMALL_SIZE)    # legend fontsize\n",
    "plt.rc('figure', titlesize=BIGGER_SIZE)  # fontsize of the figure title"
   ]
  },
  {
   "cell_type": "code",
   "execution_count": null,
   "id": "e62eb263",
   "metadata": {},
   "outputs": [],
   "source": [
    "truncated_modes = np.array([2, 6, 10, 14, 16])\n",
    "E_sPOD = np.array([0.26982, 0.02641, 0.00499, 0.00222, 0.00073])\n",
    "E_POD = np.array([0.78781, 0.63762, 0.51599, 0.40523, 0.35954])\n",
    "E_sPOD_NN = np.array([0.31729, 0.12410, 0.09889, 0.09411, 0.06559])\n",
    "E_sPOD_I = np.array([0.26982, 0.02641, 0.00501, 0.00223, 0.00079])\n",
    "E_POD_NN = np.array([0.9837, 0.9833, 0.9822, 1.0, 1.0])\n",
    "\n",
    "err = errors[0]\n",
    "err_min = [min(x) for x in err]\n",
    "err_max = [max(x) for x in err]\n",
    "err_mean = [mean(x) for x in err]\n",
    "\n",
    "fig, axs = plt.subplots(1, 2, figsize=(12, 6))\n",
    "\n",
    "axs[0].semilogy(truncated_modes, E_sPOD, color=\"peru\", linestyle='-', marker=\".\", label=r\"$E^{\\mathrm{sPOD}}$\")\n",
    "axs[0].semilogy(truncated_modes, E_POD, color=\"brown\", linestyle='-', marker=\".\", label=r\"$E^{\\mathrm{POD}}$\")\n",
    "axs[0].semilogy(truncated_modes, E_sPOD_NN, color=\"red\", linestyle='--', marker=\"*\", label=r\"$E^{\\mathrm{sPOD-NN}}_{\\mathrm{tot}}$\")\n",
    "axs[0].semilogy(truncated_modes, E_sPOD_I, color=\"blue\", linestyle='--', marker=\"*\", label=r\"$E^{\\mathrm{sPOD-I}}_{\\mathrm{tot}}$\")\n",
    "axs[0].semilogy(truncated_modes, E_POD_NN, color=\"black\", linestyle='--', marker=\"*\", label=r\"$E^{\\mathrm{POD-NN}}_{\\mathrm{tot}}$\")\n",
    "axs[0].set_xlabel('Number of modes')\n",
    "axs[0].set_ylabel('Errors')\n",
    "axs[0].grid()\n",
    "axs[0].legend(loc='lower left')\n",
    "\n",
    "axs[1].semilogy(df.t, err_max, color=\"teal\", linestyle='--', label=r\"max$(E^{\\mathrm{sPOD-NN}}_{\\mathrm{t}})$\")\n",
    "axs[1].semilogy(df.t, err_mean, color=\"orange\", linestyle='--', label=r\"mean$(E^{\\mathrm{sPOD-NN}}_{\\mathrm{t}})$\")\n",
    "axs[1].semilogy(df.t, err_min, color=\"dimgrey\", linestyle='--', label=r\"min$(E^{\\mathrm{sPOD-NN}}_{\\mathrm{t}})$\")\n",
    "axs[1].set_xlabel(r\"time $t$\")\n",
    "axs[1].grid()\n",
    "axs[1].legend(loc='lower right')\n",
    "\n",
    "\n",
    "save_fig(filepath=impath + 'Rel_err', figure=fig)\n",
    "fig.savefig(impath + \"Rel_err\" + \".eps\", format='eps',dpi=600, transparent=True)"
   ]
  },
  {
   "cell_type": "code",
   "execution_count": null,
   "id": "d8b5d675",
   "metadata": {},
   "outputs": [],
   "source": []
  }
 ],
 "metadata": {
  "kernelspec": {
   "display_name": "Python 3 (ipykernel)",
   "language": "python",
   "name": "python3"
  },
  "language_info": {
   "codemirror_mode": {
    "name": "ipython",
    "version": 3
   },
   "file_extension": ".py",
   "mimetype": "text/x-python",
   "name": "python",
   "nbconvert_exporter": "python",
   "pygments_lexer": "ipython3",
   "version": "3.9.10"
  }
 },
 "nbformat": 4,
 "nbformat_minor": 5
}
