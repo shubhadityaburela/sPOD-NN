{
 "cells": [
  {
   "cell_type": "markdown",
   "id": "a219ecef",
   "metadata": {},
   "source": [
    "# Parametric non-intrusive model order reduction for synthetic data\n",
    "\n",
    "Here we describe the application of methods sPOD-NN, sPOD-I and POD-NN on a 1D syntheticaly generated data set"
   ]
  },
  {
   "cell_type": "code",
   "execution_count": null,
   "id": "3c09eef3",
   "metadata": {},
   "outputs": [],
   "source": [
    "import sys\n",
    "sys.path.append('../sPOD/lib/')\n",
    "sys.path.append('../DL-ROM/LIB/')"
   ]
  },
  {
   "cell_type": "code",
   "execution_count": null,
   "id": "58ba80fd",
   "metadata": {},
   "outputs": [],
   "source": [
    "from synthetic_sup import synthetic_sup\n",
    "import numpy as np"
   ]
  },
  {
   "cell_type": "markdown",
   "id": "9c78cc59",
   "metadata": {},
   "source": [
    "## Basis reconstruction for the synthetic data\n",
    "\n",
    "In this part we : \n",
    "\n",
    "<ul>\n",
    "<li>Generate the 1D synthetic data with $M = 500$ and $N_t = 500$ with $training\\_samples$ being the number of different values of parameter considered for basis reconstruction and further network training and $testing\\_sample$ being the value of test parameter.</li>\n",
    "<li>Perform sPOD and POD on the generated data.</li>\n",
    "<li>Extract the time amplitudes according to Eq.(8) and Eq.(13) from the paper.</li>\n",
    "</ul>\n",
    "\n",
    "The inputs here include : \n",
    "<ul>\n",
    "<li>$spod\\_iter$ is the number of iterations for the sPOD algorithm.</li>\n",
    "<li>$nmodes$ are the number of singular values taken into consideration while creating the data.</li>\n",
    "<li>$plot\\_offline\\_data$ is the switch variable for the user to plot the results of the basis reconstruction.</li>\n",
    "</ul>"
   ]
  },
  {
   "cell_type": "code",
   "execution_count": null,
   "id": "fe8fd250",
   "metadata": {
    "scrolled": true
   },
   "outputs": [],
   "source": [
    "df = synthetic_sup(training_samples=[0.1, 0.15, 0.2, 0.25, 0.3], testing_sample=[0.23], \n",
    "                   nmodes=8, spod_iter=300, plot_offline_data=True)"
   ]
  },
  {
   "cell_type": "code",
   "execution_count": null,
   "id": "889026db",
   "metadata": {},
   "outputs": [],
   "source": [
    "# We collect the time amplitudes, shifts and the parameters for the training as well as the testing data.\n",
    "TA_TRAIN = df.TA_TRAIN\n",
    "SHIFTS_TRAIN = df.SHIFTS_TRAIN\n",
    "PARAMS_TRAIN = df.PARAMS_TRAIN\n",
    "TA_TEST = df.TA_TEST\n",
    "SHIFTS_TEST = df.SHIFTS_TEST\n",
    "PARAMS_TEST = df.PARAMS_TEST\n",
    "TA_POD_TRAIN = df.TA_POD_TRAIN\n",
    "TA_POD_TEST = df.TA_POD_TEST"
   ]
  },
  {
   "cell_type": "markdown",
   "id": "d827d6ea",
   "metadata": {},
   "source": [
    "We assemble the $\\hat{A}$ matrix according to the Eq.(16) from the paper."
   ]
  },
  {
   "cell_type": "code",
   "execution_count": null,
   "id": "f82ae8ed",
   "metadata": {},
   "outputs": [],
   "source": [
    "shifts_train = np.concatenate((np.reshape(SHIFTS_TRAIN[0], newshape=[1, -1]), np.reshape(SHIFTS_TRAIN[1], newshape=[1, -1])), axis=0)\n",
    "shifts_test = np.concatenate((np.reshape(SHIFTS_TEST[0], newshape=[1, -1]), np.reshape(SHIFTS_TEST[1], newshape=[1, -1])), axis=0)\n",
    "\n",
    "ta_train = np.concatenate((TA_TRAIN, shifts_train), axis=0)\n",
    "ta_test = np.concatenate((TA_TEST, shifts_test), axis=0)"
   ]
  },
  {
   "cell_type": "code",
   "execution_count": null,
   "id": "a27fe9f8",
   "metadata": {},
   "outputs": [],
   "source": [
    "print(\"Grid, Nx : {}, Nt : {}\".format(df.Nx, df.Nt))\n",
    "print(\"Number of sPOD frames : {}\".format(df.NumFrames))\n",
    "print(\"Number of modes per frame : {}\".format(df.nmodes))\n",
    "print(\"Number of parameter instances : {}\".format(int(int(ta_train.shape[1]) / df.Nt)))\n",
    "print(\"Size of training matrix : {} x {}\".format(int(ta_train.shape[0]), int(ta_train.shape[1])))"
   ]
  },
  {
   "cell_type": "markdown",
   "id": "2b7c1bb0",
   "metadata": {},
   "source": [
    "## Neural network training\n",
    "\n",
    "Based on the data which we obtain from the previous step we train our neural network. For the training we first define certain parameters needed for training step. The parameters are mentioned here are:\n",
    "\n",
    "<ul>\n",
    "<li>$scaling$ activates the min-max data scaling for efficient training.</li>\n",
    "<li>$full\\_order\\_model\\_dimension$ is effectively $M$ which is the total number of grid points.</li>\n",
    "<li>$reduced\\_order\\_model\\_dimension$ is $n_{\\mathrm{dof}}$ mentioned in Eq.(19) in the paper.</li>\n",
    "<li>$totalModes$ is the total number of modes.</li>\n",
    "<li>$num\\_early\\_stop$ defines the early stopping criteria for training step.</li>\n",
    "</ul>\n",
    "\n",
    "Subsequently the hyperparameters are:\n",
    "<ul>\n",
    "<li>$epochs$ sets the total number of epochs for training.</li>\n",
    "<li>$lr$ sets the learning rate for training.</li>\n",
    "<li>$loss\\_type$ is the type of loss to consider while training options being $L1$ or $MSE$.</li>\n",
    "<li>$batch\\_size$ sets the total number of minibatches for the training data to be broken down into for effective training.</li>\n",
    "</ul>"
   ]
  },
  {
   "cell_type": "code",
   "execution_count": null,
   "id": "b4b3d2dd",
   "metadata": {},
   "outputs": [],
   "source": [
    "params_sPOD = {\n",
    "        'scaling': True,  \n",
    "        'full_order_model_dimension': df.Nx,  \n",
    "        'reduced_order_model_dimension': ta_train.shape[0], \n",
    "        'totalModes': ta_train.shape[0] - df.NumFrames,  \n",
    "        'num_early_stop': 100000  \n",
    "    \n",
    "    }\n",
    "params_POD = {\n",
    "        'scaling': True,  \n",
    "        'full_order_model_dimension': df.Nx, \n",
    "        'reduced_order_model_dimension': TA_POD_TRAIN.shape[0], \n",
    "        'totalModes': TA_POD_TRAIN.shape[0],  \n",
    "        'num_early_stop': 500  \n",
    "    }"
   ]
  },
  {
   "cell_type": "code",
   "execution_count": null,
   "id": "9e2aa490",
   "metadata": {
    "scrolled": true
   },
   "outputs": [],
   "source": [
    "# training the model\n",
    "from DFNN import run_model \n",
    "print(\"#################################\")\n",
    "print(\"sPOD-NN\")\n",
    "trained_model_sPOD, _, scaling_sPOD = run_model(ta_train, PARAMS_TRAIN, epochs=150000, lr=0.0025, loss_type='L1', \n",
    "                                                logs_folder='./DNN_result/synthetic/training_results_sPOD', \n",
    "                                                params=params_sPOD, batch_size=50)\n",
    "print(\"#################################\\n\")\n",
    "print(\"#################################\")\n",
    "print(\"POD-NN\")\n",
    "trained_model_POD, _, scaling_POD = run_model(TA_POD_TRAIN, PARAMS_TRAIN, epochs=150000, lr=0.0025, loss_type='L1',\n",
    "                                              logs_folder='./DNN_result/synthetic/training_results_POD', \n",
    "                                              params=params_POD, batch_size=50)\n",
    "print(\"#################################\\n\")"
   ]
  },
  {
   "cell_type": "markdown",
   "id": "b443bb70",
   "metadata": {},
   "source": [
    "## Neural network prediction\n",
    "\n",
    "After the training is finished the best weights are saved for network prediction. Here those weights are loaded and the prediction is performed. The dictionary $test$ is defined here which determines whether to run a multi-query scenario or full prediction scenario. If $test['typeOfTest'] = \"query\"$ then the multi-query scenario is run for which $test['typeOfTest'] = 200$ sets the time step at which the prediction has to be performed. \n",
    "\n",
    "Plotting function is only activated for $test['typeOfTest'] = \"full\"$ which gives us the full prediction throughout all the time steps."
   ]
  },
  {
   "cell_type": "code",
   "execution_count": null,
   "id": "286d7839",
   "metadata": {},
   "outputs": [],
   "source": [
    "test = {\n",
    "    'typeOfTest': \"full\",\n",
    "    'test_sample': 200\n",
    "}"
   ]
  },
  {
   "cell_type": "code",
   "execution_count": null,
   "id": "ed6f7ecc",
   "metadata": {},
   "outputs": [],
   "source": [
    "# loading the model\n",
    "from DFNN import scale_params\n",
    "import torch\n",
    "import pathlib\n",
    "import os\n",
    "\n",
    "log_folder_base_sPOD = 'DNN_result/synthetic/training_results_sPOD/'\n",
    "log_folder_trained_model_sPOD = sorted(pathlib.Path(log_folder_base_sPOD).glob('*/'), key=os.path.getmtime)[-1]\n",
    "PATH_sPOD = str(log_folder_trained_model_sPOD) + '/trained_weights/' + 'weights.pt'\n",
    "\n",
    "log_folder_base_POD = 'DNN_result/synthetic/training_results_POD/'\n",
    "log_folder_trained_model_POD = sorted(pathlib.Path(log_folder_base_POD).glob('*/'), key=os.path.getmtime)[-1]\n",
    "PATH_POD = str(log_folder_trained_model_POD) + '/trained_weights/' + 'weights.pt'\n",
    "\n",
    "PATH_sPOD = 'DNN_result/synthetic/training_results_sPOD/2023_02_10__15-10-53/trained_weights/weights.pt'\n",
    "PATH_POD = 'DNN_result/synthetic/training_results_POD/2023_02_10__15-20-51/trained_weights/weights.pt'\n",
    "\n",
    "# Scale the parameters before prediction\n",
    "if '/trained_weights/weights.pt' in PATH_sPOD: address_sPOD = PATH_sPOD.replace('/trained_weights/weights.pt', '')\n",
    "scaling_sPOD = np.load(address_sPOD + '/variables/' + 'scaling.npy', allow_pickle=True)\n",
    "\n",
    "if '/trained_weights/weights.pt' in PATH_POD: address_POD = PATH_POD.replace('/trained_weights/weights.pt', '')\n",
    "scaling_POD = np.load(address_POD + '/variables/' + 'scaling.npy', allow_pickle=True)\n",
    "\n",
    "PARAMS_TEST_sPOD = scale_params(PARAMS_TEST, params_sPOD, scaling_sPOD)\n",
    "PARAMS_TEST_POD = scale_params(PARAMS_TEST, params_POD, scaling_POD)"
   ]
  },
  {
   "cell_type": "code",
   "execution_count": null,
   "id": "0ac2a0b7",
   "metadata": {},
   "outputs": [],
   "source": [
    "if test['typeOfTest'] == \"query\":\n",
    "    test_sample = test['test_sample']\n",
    "    \n",
    "    ta_test = ta_test[:, test_sample][..., np.newaxis]\n",
    "    \n",
    "    df.TA_TEST = df.TA_TEST[:, test_sample][..., np.newaxis]\n",
    "    df.TA_POD_TEST = df.TA_POD_TEST[:, test_sample][..., np.newaxis]\n",
    "    \n",
    "    tmp = []\n",
    "    for i in range(df.NumFrames):\n",
    "        tt = []\n",
    "        for m in range(df.nmodes):\n",
    "            ampl = df.TA_interp_list[i][m][test_sample, :][np.newaxis, ...]\n",
    "            tt.append(ampl)\n",
    "        tmp.append(tt)\n",
    "    df.TA_interp_list = tmp\n",
    "    \n",
    "    df.SHIFTS_TEST[0] = df.SHIFTS_TEST[0][:, test_sample]\n",
    "    df.SHIFTS_TEST[1] = df.SHIFTS_TEST[1][:, test_sample]\n",
    "    \n",
    "    PARAMS_TEST_sPOD = PARAMS_TEST_sPOD[:, test_sample][..., np.newaxis]\n",
    "    PARAMS_TEST_POD = PARAMS_TEST_POD[:, test_sample][..., np.newaxis]"
   ]
  },
  {
   "cell_type": "code",
   "execution_count": null,
   "id": "ae2399d3",
   "metadata": {},
   "outputs": [],
   "source": [
    "# testing the model\n",
    "from DFNN import test_model \n",
    "rel_err_sPOD, results_predicted_sPOD = test_model(ta_test, PARAMS_TEST_sPOD, saved_model=True, \n",
    "                                                  PATH_TO_WEIGHTS=PATH_sPOD, params=params_sPOD,\n",
    "                                                  scaling=scaling_sPOD, batch_size=50) \n",
    "rel_err_POD, results_predicted_POD = test_model(TA_POD_TEST, PARAMS_TEST_POD, saved_model=True,\n",
    "                                               PATH_TO_WEIGHTS=PATH_POD, params=params_POD,\n",
    "                                               scaling=scaling_POD, batch_size=50)"
   ]
  },
  {
   "cell_type": "markdown",
   "id": "0961ee85",
   "metadata": {},
   "source": [
    "Once the predictions for the time amplitudes and the shifts had been made we now reconstruct the snapshot according to Eq.(11) and Eq.(18) for POD and sPOD based methods respectively"
   ]
  },
  {
   "cell_type": "code",
   "execution_count": null,
   "id": "fdd0dc98",
   "metadata": {},
   "outputs": [],
   "source": [
    "TA_sPOD_pred = results_predicted_sPOD[:-2, :]\n",
    "shifts_sPOD_pred = results_predicted_sPOD[-2:, :]\n",
    "TA_POD_pred = results_predicted_POD"
   ]
  },
  {
   "cell_type": "code",
   "execution_count": null,
   "id": "204744d6",
   "metadata": {
    "scrolled": false
   },
   "outputs": [],
   "source": [
    "errors = df.OnlinePredictionAnalysis(TA_sPOD_pred, shifts_sPOD_pred, TA_POD_pred, plot_online=True, test_type=test)"
   ]
  },
  {
   "cell_type": "markdown",
   "id": "1438f286",
   "metadata": {},
   "source": [
    "## Reconstruction error plots"
   ]
  },
  {
   "cell_type": "code",
   "execution_count": null,
   "id": "aefb50a7",
   "metadata": {},
   "outputs": [],
   "source": [
    "import matplotlib.pyplot as plt\n",
    "import numpy as np\n",
    "import os\n",
    "from Helper import save_fig\n",
    "from statistics import mean\n",
    "\n",
    "impath = \"../plots/images_synthetic/\"\n",
    "os.makedirs(impath, exist_ok=True) \n",
    "\n",
    "plt.rcParams.update({\n",
    "    \"text.usetex\": True,\n",
    "    \"font.family\": \"serif\",\n",
    "    \"font.serif\": [\"Computer Modern\"]})\n",
    "\n",
    "SMALL_SIZE = 16   # 16\n",
    "MEDIUM_SIZE = 18   # 18\n",
    "BIGGER_SIZE = 20   # 20\n",
    "\n",
    "plt.rc('font', size=SMALL_SIZE)          # controls default text sizes\n",
    "plt.rc('axes', titlesize=BIGGER_SIZE)     # fontsize of the axes title\n",
    "plt.rc('axes', labelsize=MEDIUM_SIZE)    # fontsize of the x and y labels\n",
    "plt.rc('xtick', labelsize=MEDIUM_SIZE)    # fontsize of the tick labels\n",
    "plt.rc('ytick', labelsize=MEDIUM_SIZE)    # fontsize of the tick labels\n",
    "plt.rc('legend', fontsize=SMALL_SIZE)    # legend fontsize\n",
    "plt.rc('figure', titlesize=BIGGER_SIZE)  # fontsize of the figure title"
   ]
  },
  {
   "cell_type": "code",
   "execution_count": null,
   "id": "351445a3",
   "metadata": {},
   "outputs": [],
   "source": [
    "truncated_modes = np.array([2 + 2, 6 + 2, 10 + 2, 14 + 2, 16 + 2])\n",
    "E_sPOD = np.array([0.26982, 0.02641, 0.00499, 0.00222, 0.00073])\n",
    "E_POD = np.array([0.78781, 0.63762, 0.51599, 0.40523, 0.35954])\n",
    "E_sPOD_NN = np.array([0.31729, 0.12410, 0.09889, 0.09411, 0.06559])\n",
    "E_sPOD_I = np.array([0.26982, 0.02641, 0.00501, 0.00223, 0.00079])\n",
    "E_POD_NN = np.array([0.9837, 0.9833, 0.9822, 1.0, 1.0])\n",
    "\n",
    "\n",
    "err = errors[0]\n",
    "err_min = [min(x) for x in err]\n",
    "err_max = [max(x) for x in err]\n",
    "err_mean = [mean(x) for x in err]\n",
    "\n",
    "fig, axs = plt.subplots(1, 2, figsize=(12, 6))\n",
    "\n",
    "axs[0].semilogy(truncated_modes, E_sPOD, color=\"peru\", linestyle='-', marker=\".\", label=r\"$E^{\\mathrm{sPOD}}$\")\n",
    "axs[0].semilogy(truncated_modes, E_POD, color=\"brown\", linestyle='-', marker=\".\", label=r\"$E^{\\mathrm{POD}}$\")\n",
    "axs[0].semilogy(truncated_modes, E_sPOD_NN, color=\"red\", linestyle='--', marker=\"*\", label=r\"$E^{\\mathrm{sPOD-NN}}_{\\mathrm{tot}}$\")\n",
    "axs[0].semilogy(truncated_modes, E_sPOD_I, color=\"blue\", linestyle='--', marker=\"*\", label=r\"$E^{\\mathrm{sPOD-I}}_{\\mathrm{tot}}$\")\n",
    "axs[0].semilogy(truncated_modes, E_POD_NN, color=\"black\", linestyle='--', marker=\"*\", label=r\"$E^{\\mathrm{POD-NN}}_{\\mathrm{tot}}$\")\n",
    "axs[0].set_xlabel(r\"$n_{\\mathrm{dof}}$\")\n",
    "axs[0].set_ylabel('Errors')\n",
    "axs[0].grid()\n",
    "axs[0].legend(loc='lower left')\n",
    "\n",
    "axs[1].semilogy(df.t, err_max, color=\"teal\", linestyle='--', label=r\"max$(E^{\\mathrm{sPOD-NN}}_j)$\")\n",
    "axs[1].semilogy(df.t, err_mean, color=\"orange\", linestyle='--', label=r\"mean$(E^{\\mathrm{sPOD-NN}}_j)$\")\n",
    "axs[1].semilogy(df.t, err_min, color=\"dimgrey\", linestyle='--', label=r\"min$(E^{\\mathrm{sPOD-NN}}_j)$\")\n",
    "axs[1].set_xlabel(r\"time $t$\")\n",
    "axs[1].grid()\n",
    "axs[1].legend(loc='lower right')\n",
    "\n",
    "\n",
    "save_fig(filepath=impath + 'Rel_err_synthetic', figure=fig)\n",
    "fig.savefig(impath + \"Rel_err_synthetic\" + \".pdf\", format='pdf',dpi=200, transparent=True, bbox_inches=\"tight\")"
   ]
  },
  {
   "cell_type": "code",
   "execution_count": null,
   "id": "a2f2b582",
   "metadata": {},
   "outputs": [],
   "source": []
  }
 ],
 "metadata": {
  "kernelspec": {
   "display_name": "Python 3 (ipykernel)",
   "language": "python",
   "name": "python3"
  },
  "language_info": {
   "codemirror_mode": {
    "name": "ipython",
    "version": 3
   },
   "file_extension": ".py",
   "mimetype": "text/x-python",
   "name": "python",
   "nbconvert_exporter": "python",
   "pygments_lexer": "ipython3",
   "version": "3.9.10"
  }
 },
 "nbformat": 4,
 "nbformat_minor": 5
}
