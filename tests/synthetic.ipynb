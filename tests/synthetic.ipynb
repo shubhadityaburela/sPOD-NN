{
 "cells": [
  {
   "cell_type": "markdown",
   "id": "a219ecef",
   "metadata": {},
   "source": [
    "# Neural network prediction for the sPOD-DL-ROM for CombustionWave"
   ]
  },
  {
   "cell_type": "code",
   "execution_count": null,
   "id": "3c09eef3",
   "metadata": {},
   "outputs": [],
   "source": [
    "import sys\n",
    "sys.path.append('../DL/')\n",
    "sys.path.append('../sPOD/lib/')\n",
    "sys.path.append('../DL-ROM/LIB/')"
   ]
  },
  {
   "cell_type": "code",
   "execution_count": null,
   "id": "58ba80fd",
   "metadata": {},
   "outputs": [],
   "source": [
    "from synthetic import synthetic\n",
    "import numpy as np"
   ]
  },
  {
   "cell_type": "markdown",
   "id": "9c78cc59",
   "metadata": {},
   "source": [
    "## Data generation / Shifted POD of the data"
   ]
  },
  {
   "cell_type": "code",
   "execution_count": null,
   "id": "fe8fd250",
   "metadata": {},
   "outputs": [],
   "source": [
    "df = synthetic(spod_iter=200)        "
   ]
  },
  {
   "cell_type": "markdown",
   "id": "6313ef62",
   "metadata": {},
   "source": [
    "## Input data for the network "
   ]
  },
  {
   "cell_type": "code",
   "execution_count": null,
   "id": "889026db",
   "metadata": {},
   "outputs": [],
   "source": [
    "# We collect the time amplitudes, shifts and the parameters for the training as well as the testing data.\n",
    "TA_TRAIN = df.TA_TRAIN\n",
    "SHIFTS_TRAIN = df.SHIFTS_TRAIN\n",
    "PARAMS_TRAIN = df.PARAMS_TRAIN\n",
    "TA_TEST = df.TA_TEST\n",
    "SHIFTS_TEST = df.SHIFTS_TEST\n",
    "PARAMS_TEST = df.PARAMS_TEST\n",
    "TA_POD_TRAIN = df.TA_POD_TRAIN\n",
    "TA_POD_TEST = df.TA_POD_TEST"
   ]
  },
  {
   "cell_type": "code",
   "execution_count": null,
   "id": "4b137397",
   "metadata": {},
   "outputs": [],
   "source": [
    "# Save the values for future use "
   ]
  },
  {
   "cell_type": "code",
   "execution_count": null,
   "id": "27ca22da",
   "metadata": {},
   "outputs": [],
   "source": [
    "print(\"Grid, Nx : {}, Nt : {}\".format(df.Nx, df.Nt))\n",
    "print(\"Number of sPOD frames : {}\".format(df.NumFrames))\n",
    "print(\"Number of modes per frame : {}\".format(df.nmodes))\n",
    "print(\"Number of parameter instances : {}\".format(int(int(TA_TRAIN.shape[1]) / df.Nt)))\n",
    "print(\"Size of training matrix : {} x {}\".format(int(TA_TRAIN.shape[0]), int(TA_TRAIN.shape[1])))"
   ]
  },
  {
   "cell_type": "code",
   "execution_count": null,
   "id": "f82ae8ed",
   "metadata": {},
   "outputs": [],
   "source": [
    "# This cell is reserved for any data manipulations that need to be done for the network input\n",
    "shifts_train = np.concatenate((np.reshape(SHIFTS_TRAIN[0], newshape=[1, -1]), np.reshape(SHIFTS_TRAIN[1], newshape=[1, -1])), axis=0)\n",
    "shifts_test = np.concatenate((np.reshape(SHIFTS_TEST[0], newshape=[1, -1]), np.reshape(SHIFTS_TEST[1], newshape=[1, -1])), axis=0)\n",
    "\n",
    "ta_train = np.concatenate((TA_TRAIN, shifts_train), axis=0)\n",
    "ta_test = np.concatenate((TA_TEST, shifts_test), axis=0)"
   ]
  },
  {
   "cell_type": "markdown",
   "id": "5367c544",
   "metadata": {},
   "source": [
    "## Network call"
   ]
  },
  {
   "cell_type": "markdown",
   "id": "2b7c1bb0",
   "metadata": {},
   "source": [
    "## Feed forward neural network"
   ]
  },
  {
   "cell_type": "code",
   "execution_count": null,
   "id": "03c8f833",
   "metadata": {},
   "outputs": [],
   "source": [
    "# Path for the pretrained weights\n",
    "PATH_sPOD = 'DNN_result/syntheticOnlyTA/training_results_sPOD/2022_08_25__12-34-47/trained_weights/weights.pt'\n",
    "PATH_POD = 'DNN_result/synthetic/training_results_sPOD/2022_08_23__18-56-21/trained_weights/weights.pt'"
   ]
  },
  {
   "cell_type": "code",
   "execution_count": null,
   "id": "b4b3d2dd",
   "metadata": {},
   "outputs": [],
   "source": [
    "params_sPOD = {\n",
    "        'scaling': True,  # true if the data should be scaled\n",
    "        'full_order_model_dimension': df.Nx,  # N_h\n",
    "        'reduced_order_model_dimension': df.nmodes * df.NumFrames + df.NumFrames,  # N\n",
    "        'totalModes': df.nmodes * df.NumFrames,  # Total number of modes for all the frames\n",
    "        'NumOfFrames': df.NumFrames  # Total number of frames\n",
    "    }\n",
    "params_POD = {\n",
    "        'scaling': True,  # true if the data should be scaled\n",
    "        'full_order_model_dimension': df.Nx,  # N_h\n",
    "        'reduced_order_model_dimension': df.nmodes * df.NumFrames + df.NumFrames,  # N\n",
    "        'totalModes': df.nmodes * df.NumFrames,  # Total number of modes for all the frames\n",
    "        'NumOfFrames': 0  # Total number of frames\n",
    "    }"
   ]
  },
  {
   "cell_type": "code",
   "execution_count": null,
   "id": "9e2aa490",
   "metadata": {},
   "outputs": [],
   "source": [
    "# training the model\n",
    "from network import run_model \n",
    "print(\"#################################\")\n",
    "print(\"sPOD-DL-ROM\")\n",
    "trained_model_sPOD, scaling_sPOD = run_model(ta_train, PARAMS_TRAIN, epochs=1000, lr=0.05, loss='L1', \n",
    "                       logs_folder='./DNN_result/synthetic/training_results_sPOD',\n",
    "                      pretrained_load=False, pretrained_weights=PATH_sPOD, params=params_sPOD)\n",
    "print(\"#################################\\n\")\n",
    "print(\"#################################\")\n",
    "print(\"POD-DL-ROM\")\n",
    "trained_model_POD, scaling_POD = run_model(TA_POD_TRAIN, PARAMS_TRAIN, epochs=1000, lr=0.05, loss='L1', \n",
    "                      logs_folder='./DNN_result/synthetic/training_results_POD',\n",
    "                     pretrained_load=False, pretrained_weights=PATH_POD, params=params_POD)\n",
    "print(\"#################################\\n\")"
   ]
  },
  {
   "cell_type": "code",
   "execution_count": null,
   "id": "ed6f7ecc",
   "metadata": {},
   "outputs": [],
   "source": [
    "# loading the model\n",
    "import torch\n",
    "import pathlib\n",
    "import os\n",
    "\n",
    "log_folder_base_sPOD = 'DNN_result/synthetic/training_results_sPOD/'\n",
    "log_folder_trained_model_sPOD = sorted(pathlib.Path(log_folder_base_sPOD).glob('*/'), key=os.path.getmtime)[-1]\n",
    "PATH_sPOD = str(log_folder_trained_model_sPOD) + '/trained_weights/' + 'weights.pt'\n",
    "\n",
    "\n",
    "log_folder_base_POD = 'DNN_result/synthetic/training_results_POD/'\n",
    "log_folder_trained_model_POD = sorted(pathlib.Path(log_folder_base_POD).glob('*/'), key=os.path.getmtime)[-1]\n",
    "PATH_POD = str(log_folder_trained_model_POD) + '/trained_weights/' + 'weights.pt'\n"
   ]
  },
  {
   "cell_type": "code",
   "execution_count": null,
   "id": "20e7d674",
   "metadata": {},
   "outputs": [],
   "source": [
    "from network import scale_params\n",
    "PARAMS_TEST_sPOD = scale_params(PARAMS_TEST, params_sPOD, scaling_sPOD)\n",
    "PARAMS_TEST_POD = scale_params(PARAMS_TEST, params_POD, scaling_POD)"
   ]
  },
  {
   "cell_type": "code",
   "execution_count": null,
   "id": "ae2399d3",
   "metadata": {},
   "outputs": [],
   "source": [
    "# testing the model\n",
    "from network import test_model \n",
    "rel_err_sPOD, results_predicted_sPOD = test_model(ta_test, PARAMS_TEST_sPOD, \n",
    "                                                  saved_model=True, \n",
    "                                                  PATH_TO_WEIGHTS=PATH_sPOD, params=params_sPOD,\n",
    "                                                  scaling=scaling_sPOD) \n",
    "rel_err_POD, results_predicted_POD = test_model(TA_POD_TEST, PARAMS_TEST_POD, \n",
    "                                                saved_model=True,\n",
    "                                               PATH_TO_WEIGHTS=PATH_POD, params=params_POD,\n",
    "                                               scaling=scaling_POD)\n",
    "print(rel_err_sPOD, rel_err_POD)"
   ]
  },
  {
   "cell_type": "markdown",
   "id": "174018b5",
   "metadata": {},
   "source": [
    "## Convolutional autoencoder and DNN coupled model"
   ]
  },
  {
   "cell_type": "code",
   "execution_count": null,
   "id": "8cee0414",
   "metadata": {},
   "outputs": [],
   "source": [
    "from TrainingFramework import TrainingFramework\n",
    "from TestingFramework import TestingFramework\n",
    "import Helper"
   ]
  },
  {
   "cell_type": "code",
   "execution_count": null,
   "id": "3cc17832",
   "metadata": {},
   "outputs": [],
   "source": [
    "dict_network_sPOD = {\n",
    "        'time_amplitude_train': ta_train,\n",
    "        'time_amplitude_test': ta_test,\n",
    "        'parameter_train': PARAMS_TRAIN,\n",
    "        'parameter_test': PARAMS_TEST,\n",
    "        'batch_size': 500,\n",
    "        'num_early_stop': 500,  # Number of epochs for the early stopping\n",
    "        'pretrained_load': False,  # Wthere to initialize the network with pretrained weights\n",
    "        'scaling': True,  # true if the data should be scaled\n",
    "        'perform_svd': 'randomized',  # 'normal', 'randomized'\n",
    "        'learning_rate': 0.0005,  # eta\n",
    "        'full_order_model_dimension': df.Nx,  # N_h\n",
    "        'reduced_order_model_dimension': df.nmodes * df.NumFrames + df.NumFrames,  # N\n",
    "        'encoded_dimension': 4,  # dimension of the system after the encoder\n",
    "        'omega_h': 0.8,\n",
    "        'omega_N': 0.2,\n",
    "        'typeConv': '1D',  # Type of convolutional layer for the network : '1D' or '2D'\n",
    "        'totalModes': df.nmodes * df.NumFrames,  # Total number of modes for all the frames\n",
    "        'NumOfFrames': df.NumFrames  # Total number of frames\n",
    "    }\n",
    "\n",
    "\n",
    "dict_network_POD = {\n",
    "        'time_amplitude_train': TA_POD_TRAIN,\n",
    "        'time_amplitude_test':TA_POD_TEST,\n",
    "        'parameter_train': PARAMS_TRAIN,\n",
    "        'parameter_test': PARAMS_TEST,\n",
    "        'batch_size': 500,\n",
    "        'num_early_stop': 10000,  # Number of epochs for the early stopping\n",
    "        'pretrained_load': False,  # Wthere to initialize the network with pretrained weights\n",
    "        'scaling': True,  # true if the data should be scaled\n",
    "        'perform_svd': 'randomized',  # 'normal', 'randomized'\n",
    "        'learning_rate': 0.05,  # eta\n",
    "        'full_order_model_dimension': df.Nx,  # N_h\n",
    "        'reduced_order_model_dimension': df.nmodes * df.NumFrames + df.NumFrames,  # N\n",
    "        'encoded_dimension': 4,  # dimension of the system after the encoder\n",
    "        'omega_h': 0.8,\n",
    "        'omega_N': 0.2,\n",
    "        'typeConv': '1D',  # Type of convolutional layer for the network : '1D' or '2D'\n",
    "        'totalModes': df.nmodes * df.NumFrames + df.NumFrames,  # Total number of modes for all the frames\n",
    "        'NumOfFrames': 0  # Total number of frames\n",
    "    }\n"
   ]
  },
  {
   "cell_type": "markdown",
   "id": "4b705243",
   "metadata": {},
   "source": [
    "## -------------------------------------"
   ]
  },
  {
   "cell_type": "code",
   "execution_count": null,
   "id": "13cae56e",
   "metadata": {},
   "outputs": [],
   "source": [
    "# select the path to the pre trained weights\n",
    "PATH_sPOD = 'CADNN_result/synthetic/training_results_sPOD/2022_08_23__19-55-17/net_weights/epoch_99.pt'\n",
    "PATH_POD = 'CADNN_result/synthetic/training_results_sPOD/2022_08_23__19-55-17/net_weights/epoch_99.pt'"
   ]
  },
  {
   "cell_type": "code",
   "execution_count": null,
   "id": "6b73a4da",
   "metadata": {},
   "outputs": [],
   "source": [
    "# Training model for sPOD\n",
    "train_model_sPOD = TrainingFramework(dict_network_sPOD, split=0.70, \n",
    "                                     log_folder='./CADNN_result/synthetic/training_results_sPOD/')\n",
    "trained_model_sPOD = train_model_sPOD.training(epochs=100, save_every=50, print_every=50, \n",
    "                                               log_base_name='/', pretrained_weights=PATH_sPOD)"
   ]
  },
  {
   "cell_type": "code",
   "execution_count": null,
   "id": "a0dda7de",
   "metadata": {},
   "outputs": [],
   "source": [
    "import os\n",
    "import pathlib\n",
    "\n",
    "# Testing model for sPOD\n",
    "testing_method = ''\n",
    "\n",
    "log_folder_base = 'CADNN_result/synthetic/training_results_sPOD/'\n",
    "log_folder_trained_model = sorted(pathlib.Path(log_folder_base).glob('*/'), key=os.path.getmtime)[-1]\n",
    "\n",
    "test_model_sPOD = TestingFramework(dict_network_sPOD)\n",
    "test_model_sPOD.testing(log_folder_trained_model=str(log_folder_trained_model), \n",
    "                        testing_method=testing_method, model=trained_model_sPOD)\n",
    "results_predicted_sPOD = test_model_sPOD.time_amplitude_test_output"
   ]
  },
  {
   "cell_type": "markdown",
   "id": "519d29c8",
   "metadata": {},
   "source": [
    "## -------------------------------------"
   ]
  },
  {
   "cell_type": "code",
   "execution_count": null,
   "id": "de8cc800",
   "metadata": {},
   "outputs": [],
   "source": [
    "# Training model for POD\n",
    "train_model_POD = TrainingFramework(dict_network_POD, split=0.80, \n",
    "                                    log_folder='./CADNN_result/synthetic/training_results_POD/')\n",
    "trained_model_POD = train_model_POD.training(epochs=100, save_every=50, print_every=50, \n",
    "                                             log_base_name='/', pretrained_weights=PATH_POD)"
   ]
  },
  {
   "cell_type": "code",
   "execution_count": null,
   "id": "8c56c335",
   "metadata": {},
   "outputs": [],
   "source": [
    "import os\n",
    "import pathlib\n",
    "\n",
    "# Testing model for POD\n",
    "testing_method = ''\n",
    "\n",
    "log_folder_base = 'CADNN_result/synthetic/training_results_POD/'\n",
    "log_folder_trained_model = sorted(pathlib.Path(log_folder_base).glob('*/'), key=os.path.getmtime)[-1]\n",
    "\n",
    "test_model_POD = TestingFramework(dict_network_POD)\n",
    "test_model_POD.testing(log_folder_trained_model=str(log_folder_trained_model), \n",
    "                       testing_method=testing_method, model=trained_model_POD)\n",
    "results_predicted_POD = test_model_POD.time_amplitude_test_output"
   ]
  },
  {
   "cell_type": "markdown",
   "id": "e570cb89",
   "metadata": {},
   "source": [
    "## -------------------------------------"
   ]
  },
  {
   "cell_type": "code",
   "execution_count": null,
   "id": "555a34cd",
   "metadata": {},
   "outputs": [],
   "source": [
    "# This cell is reserved for data manipulations for the online analysis\n",
    "frame_amplitudes_predicted_sPOD = results_predicted_sPOD[:-2, :]\n",
    "shifts_predicted_sPOD = results_predicted_sPOD[-2:, :]\n",
    "frame_amplitudes_predicted_POD = results_predicted_POD"
   ]
  },
  {
   "cell_type": "markdown",
   "id": "640f9d7b",
   "metadata": {},
   "source": [
    "## Online error analysis"
   ]
  },
  {
   "cell_type": "code",
   "execution_count": null,
   "id": "204744d6",
   "metadata": {},
   "outputs": [],
   "source": [
    "df.onlineErroranalysis(frame_amplitudes_predicted_sPOD, shifts_predicted_sPOD, frame_amplitudes_predicted_POD)"
   ]
  },
  {
   "cell_type": "code",
   "execution_count": null,
   "id": "e62eb263",
   "metadata": {},
   "outputs": [],
   "source": []
  }
 ],
 "metadata": {
  "kernelspec": {
   "display_name": "Python 3 (ipykernel)",
   "language": "python",
   "name": "python3"
  },
  "language_info": {
   "codemirror_mode": {
    "name": "ipython",
    "version": 3
   },
   "file_extension": ".py",
   "mimetype": "text/x-python",
   "name": "python",
   "nbconvert_exporter": "python",
   "pygments_lexer": "ipython3",
   "version": "3.9.10"
  }
 },
 "nbformat": 4,
 "nbformat_minor": 5
}
